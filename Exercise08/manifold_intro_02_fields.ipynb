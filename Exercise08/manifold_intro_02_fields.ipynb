{
 "cells": [
  {
   "cell_type": "code",
   "execution_count": 1,
   "metadata": {},
   "outputs": [],
   "source": [
    "%display latex"
   ]
  },
  {
   "cell_type": "markdown",
   "metadata": {},
   "source": [
    "# Manifolds\n",
    "\n",
    "In this notebook is an abridged version of a full [SageManifolds tutorial](https://nbviewer.jupyter.org/github/sagemanifolds/SageManifolds/blob/master/Notebooks/SM_tutorial.ipynb), with my own additions in places.\n",
    "\n",
    "It serves as a reference for myself, and rewritten as a way of reminding myself of the manifold features."
   ]
  },
  {
   "cell_type": "markdown",
   "metadata": {},
   "source": [
    "<!--BEGIN TOC-->\n",
    "## Table of Contents\n",
    "1. [Scalar fields](#0-Scalar-fields)\n",
    "    1. [Action](#0-Action)\n",
    "    2. [Undefined functions](#0-Undefined-functions)\n",
    "    3. [Algebra](#0-Algebra)\n",
    "2. [Tangent spaces](#0-Tangent-spaces)\n",
    "    1. [Elements of $T_x\\mathcal{M}$](#0-Elements-of-$T_x\\mathcal{M}$)\n",
    "3. [Vector fields](#0-Vector-fields)\n",
    "    1. [Element algebra](#0-Element-algebra)\n",
    "    2. [Action](#0-Action)\n",
    "    3. [Components](#0-Components)\n",
    "    4. [Undefined components](#0-Undefined-components)\n",
    "    5. [Values at a point](#0-Values-at-a-point)\n",
    "\n",
    "<!--END TOC-->"
   ]
  },
  {
   "cell_type": "markdown",
   "metadata": {},
   "source": [
    "We will operate on the manifolds and charts defined in the previous notebook:"
   ]
  },
  {
   "cell_type": "code",
   "execution_count": 2,
   "metadata": {},
   "outputs": [
    {
     "name": "stdout",
     "output_type": "stream",
     "text": [
      "Check of the inverse coordinate transformation:\n",
      "  r == r  *passed*\n",
      "  theta == arctan2(r*sin(theta), r*cos(theta))  **failed**\n",
      "  phi == arctan2(r*sin(phi)*sin(theta), r*cos(phi)*sin(theta))  **failed**\n",
      "  x == x  *passed*\n",
      "  y == y  *passed*\n",
      "  z == z  *passed*\n",
      "NB: a failed report can reflect a mere lack of simplification.\n"
     ]
    }
   ],
   "source": [
    "# manifolds\n",
    "M = Manifold(3, 'M', latex_name=r\"\\mathcal{M}\")\n",
    "\n",
    "# default chart\n",
    "X.<x,y,z> = M.chart()\n",
    "\n",
    "# open subset of M\n",
    "U = M.open_subset(\n",
    "    'U', \n",
    "    coord_def={X: (y!=0, x<0)}\n",
    ")\n",
    "\n",
    "# chart on U\n",
    "X_U = X.restrict(U)\n",
    "\n",
    "# spherical chart\n",
    "coords = r\"r:(0,+oo) theta:(0,pi):\\theta phi:(0,2*pi):\\phi\"\n",
    "Y.<r,theta,phi> = U.chart(coords)\n",
    "\n",
    "# transition maps:\n",
    "xfm_Y2X_U = Y.transition_map(\n",
    "    X_U,\n",
    "    [\n",
    "        r*sin(theta)*cos(phi), \n",
    "        r*sin(theta)*sin(phi), \n",
    "        r*cos(theta)\n",
    "    ]\n",
    ")\n",
    "xfm_Y2X_U.set_inverse(\n",
    "    sqrt(x^2+y^2+z^2), \n",
    "    atan2(sqrt(x^2+y^2),z), \n",
    "    atan2(y, x)\n",
    ")"
   ]
  },
  {
   "cell_type": "markdown",
   "metadata": {},
   "source": [
    "## Scalar fields <a name=\"0-Scalar-fields\"></a>\n",
    "\n",
    "A [scalar field](https://en.wikipedia.org/wiki/Scalar_field) $\\varphi$ is a differentiable mapping\n",
    "\n",
    "$$\n",
    "\\varphi : U \\rightarrow \\mathbb{R}\n",
    "$$\n",
    "where $U$ is an open-subset of $\\mathcal{M}$.\n",
    "\n",
    "*NB:* this is very similar to a function; and indeed, a function as we have seen so far is often called a *scalar (point) function*.\n",
    "\n",
    "In SageManifold, we define a scalar field through:"
   ]
  },
  {
   "cell_type": "code",
   "execution_count": 3,
   "metadata": {},
   "outputs": [
    {
     "data": {
      "text/html": [
       "<html><script type=\"math/tex; mode=display\">\\newcommand{\\Bold}[1]{\\mathbf{#1}}\\begin{array}{llcl} f:& U & \\longrightarrow & \\mathbb{R} \\\\ & \\left(x, y, z\\right) & \\longmapsto & z^{3} + y^{2} + x \\\\ & \\left(r, {\\theta}, {\\phi}\\right) & \\longmapsto & r^{3} \\cos\\left({\\theta}\\right)^{3} + r^{2} \\sin\\left({\\phi}\\right)^{2} \\sin\\left({\\theta}\\right)^{2} + r \\cos\\left({\\phi}\\right) \\sin\\left({\\theta}\\right) \\end{array}</script></html>"
      ],
      "text/latex": [
       "\\begin{math}\n",
       "\\newcommand{\\Bold}[1]{\\mathbf{#1}}\\begin{array}{llcl} f:& U & \\longrightarrow & \\mathbb{R} \\\\ & \\left(x, y, z\\right) & \\longmapsto & z^{3} + y^{2} + x \\\\ & \\left(r, {\\theta}, {\\phi}\\right) & \\longmapsto & r^{3} \\cos\\left({\\theta}\\right)^{3} + r^{2} \\sin\\left({\\phi}\\right)^{2} \\sin\\left({\\theta}\\right)^{2} + r \\cos\\left({\\phi}\\right) \\sin\\left({\\theta}\\right) \\end{array}\n",
       "\\end{math}"
      ],
      "text/plain": [
       "f: U --> R\n",
       "   (x, y, z) |--> z^3 + y^2 + x\n",
       "   (r, theta, phi) |--> r^3*cos(theta)^3 + r^2*sin(phi)^2*sin(theta)^2 + r*cos(phi)*sin(theta)"
      ]
     },
     "execution_count": 3,
     "metadata": {},
     "output_type": "execute_result"
    }
   ],
   "source": [
    "f = U.scalar_field({X_U: x + y^2 + z^3}, name=\"f\")\n",
    "f.display()"
   ]
  },
  {
   "cell_type": "markdown",
   "metadata": {},
   "source": [
    "Notice the field is defined in all charts in the atlas of $U$, provided there are transition maps available. To display for a specific chart, we pass it in as the argument:"
   ]
  },
  {
   "cell_type": "code",
   "execution_count": 4,
   "metadata": {
    "scrolled": true
   },
   "outputs": [
    {
     "data": {
      "text/html": [
       "<html><script type=\"math/tex; mode=display\">\\newcommand{\\Bold}[1]{\\mathbf{#1}}\\begin{array}{llcl} f:& U & \\longrightarrow & \\mathbb{R} \\\\ & \\left(x, y, z\\right) & \\longmapsto & z^{3} + y^{2} + x \\end{array}</script></html>"
      ],
      "text/latex": [
       "\\begin{math}\n",
       "\\newcommand{\\Bold}[1]{\\mathbf{#1}}\\begin{array}{llcl} f:& U & \\longrightarrow & \\mathbb{R} \\\\ & \\left(x, y, z\\right) & \\longmapsto & z^{3} + y^{2} + x \\end{array}\n",
       "\\end{math}"
      ],
      "text/plain": [
       "f: U --> R\n",
       "   (x, y, z) |--> z^3 + y^2 + x"
      ]
     },
     "execution_count": 4,
     "metadata": {},
     "output_type": "execute_result"
    }
   ],
   "source": [
    "f.display(X_U)"
   ]
  },
  {
   "cell_type": "markdown",
   "metadata": {},
   "source": [
    "There exist a few alternative notations to the above for creating scalar fields; since we are only providing a single chart in the argument dictionary is\n",
    "```py\n",
    "U.scalar_field(x + y^2 + z^3, chart=X_U, name='f')\n",
    "```\n",
    "And indeed, since `X_U` is the default chart, it may be omitted entirely:\n",
    "```py\n",
    "U.scalar_field(x + y^2 + z^3, name='f')\n",
    "```"
   ]
  },
  {
   "cell_type": "markdown",
   "metadata": {},
   "source": [
    "### Action <a name=\"0-Action\"></a>\n",
    "The scalar field, unlike the function, will act on points in $\\mathcal{M}$, not on coordinates:"
   ]
  },
  {
   "cell_type": "code",
   "execution_count": 5,
   "metadata": {},
   "outputs": [
    {
     "data": {
      "text/html": [
       "<html><script type=\"math/tex; mode=display\">\\newcommand{\\Bold}[1]{\\mathbf{#1}}4</script></html>"
      ],
      "text/latex": [
       "\\begin{math}\n",
       "\\newcommand{\\Bold}[1]{\\mathbf{#1}}4\n",
       "\\end{math}"
      ],
      "text/plain": [
       "4"
      ]
     },
     "execution_count": 5,
     "metadata": {},
     "output_type": "execute_result"
    }
   ],
   "source": [
    "p = M.point((1, 2, -1), name=\"p\")\n",
    "f(p)"
   ]
  },
  {
   "cell_type": "markdown",
   "metadata": {},
   "source": [
    "We can also access the underlying function on a specific chart using the `.coord_function()` method:"
   ]
  },
  {
   "cell_type": "code",
   "execution_count": 6,
   "metadata": {},
   "outputs": [
    {
     "data": {
      "text/html": [
       "<html><script type=\"math/tex; mode=display\">\\newcommand{\\Bold}[1]{\\mathbf{#1}}\\left(x, y, z\\right) \\mapsto z^{3} + y^{2} + x</script></html>"
      ],
      "text/latex": [
       "\\begin{math}\n",
       "\\newcommand{\\Bold}[1]{\\mathbf{#1}}\\left(x, y, z\\right) \\mapsto z^{3} + y^{2} + x\n",
       "\\end{math}"
      ],
      "text/plain": [
       "(x, y, z) |--> z^3 + y^2 + x"
      ]
     },
     "execution_count": 6,
     "metadata": {},
     "output_type": "execute_result"
    }
   ],
   "source": [
    "f.coord_function(X_U).display()"
   ]
  },
  {
   "cell_type": "markdown",
   "metadata": {},
   "source": [
    "For the symbolic expression we can use `.expr()` as usual:"
   ]
  },
  {
   "cell_type": "code",
   "execution_count": 7,
   "metadata": {},
   "outputs": [
    {
     "data": {
      "text/html": [
       "<html><script type=\"math/tex; mode=display\">\\newcommand{\\Bold}[1]{\\mathbf{#1}}z^{3} + y^{2} + x</script></html>"
      ],
      "text/latex": [
       "\\begin{math}\n",
       "\\newcommand{\\Bold}[1]{\\mathbf{#1}}z^{3} + y^{2} + x\n",
       "\\end{math}"
      ],
      "text/plain": [
       "z^3 + y^2 + x"
      ]
     },
     "execution_count": 7,
     "metadata": {},
     "output_type": "execute_result"
    }
   ],
   "source": [
    "f.expr(X_U)"
   ]
  },
  {
   "cell_type": "markdown",
   "metadata": {},
   "source": [
    "Which obeys:"
   ]
  },
  {
   "cell_type": "code",
   "execution_count": 8,
   "metadata": {},
   "outputs": [
    {
     "data": {
      "text/html": [
       "<html><script type=\"math/tex; mode=display\">\\newcommand{\\Bold}[1]{\\mathbf{#1}}\\mathrm{True}</script></html>"
      ],
      "text/latex": [
       "\\begin{math}\n",
       "\\newcommand{\\Bold}[1]{\\mathbf{#1}}\\mathrm{True}\n",
       "\\end{math}"
      ],
      "text/plain": [
       "True"
      ]
     },
     "execution_count": 8,
     "metadata": {},
     "output_type": "execute_result"
    }
   ],
   "source": [
    "f.expr(X_U) is f.coord_function(X_U).expr()"
   ]
  },
  {
   "cell_type": "markdown",
   "metadata": {},
   "source": [
    "### Undefined functions <a name=\"0-Undefined-functions\"></a>\n",
    "We can also define the scalar field through an unimplemented function of the chart coordinates. Consider:"
   ]
  },
  {
   "cell_type": "code",
   "execution_count": 9,
   "metadata": {},
   "outputs": [
    {
     "data": {
      "text/html": [
       "<html><script type=\"math/tex; mode=display\">\\newcommand{\\Bold}[1]{\\mathbf{#1}}\\begin{array}{llcl} h:& U & \\longrightarrow & \\mathbb{R} \\\\ & \\left(x, y, z\\right) & \\longmapsto & H\\left(x, y, z\\right) \\\\ & \\left(r, {\\theta}, {\\phi}\\right) & \\longmapsto & H\\left(r \\cos\\left({\\phi}\\right) \\sin\\left({\\theta}\\right), r \\sin\\left({\\phi}\\right) \\sin\\left({\\theta}\\right), r \\cos\\left({\\theta}\\right)\\right) \\end{array}</script></html>"
      ],
      "text/latex": [
       "\\begin{math}\n",
       "\\newcommand{\\Bold}[1]{\\mathbf{#1}}\\begin{array}{llcl} h:& U & \\longrightarrow & \\mathbb{R} \\\\ & \\left(x, y, z\\right) & \\longmapsto & H\\left(x, y, z\\right) \\\\ & \\left(r, {\\theta}, {\\phi}\\right) & \\longmapsto & H\\left(r \\cos\\left({\\phi}\\right) \\sin\\left({\\theta}\\right), r \\sin\\left({\\phi}\\right) \\sin\\left({\\theta}\\right), r \\cos\\left({\\theta}\\right)\\right) \\end{array}\n",
       "\\end{math}"
      ],
      "text/plain": [
       "h: U --> R\n",
       "   (x, y, z) |--> H(x, y, z)\n",
       "   (r, theta, phi) |--> H(r*cos(phi)*sin(theta), r*sin(phi)*sin(theta), r*cos(theta))"
      ]
     },
     "execution_count": 9,
     "metadata": {},
     "output_type": "execute_result"
    }
   ],
   "source": [
    "h = U.scalar_field(function(\"H\")(x, y, z), name=\"h\") # default chart implicit\n",
    "h.display()"
   ]
  },
  {
   "cell_type": "markdown",
   "metadata": {},
   "source": [
    "Which creates an expression when invoked:"
   ]
  },
  {
   "cell_type": "code",
   "execution_count": 10,
   "metadata": {},
   "outputs": [
    {
     "data": {
      "text/html": [
       "<html><script type=\"math/tex; mode=display\">\\newcommand{\\Bold}[1]{\\mathbf{#1}}H\\left(1, 2, -1\\right)</script></html>"
      ],
      "text/latex": [
       "\\begin{math}\n",
       "\\newcommand{\\Bold}[1]{\\mathbf{#1}}H\\left(1, 2, -1\\right)\n",
       "\\end{math}"
      ],
      "text/plain": [
       "H(1, 2, -1)"
      ]
     },
     "execution_count": 10,
     "metadata": {},
     "output_type": "execute_result"
    }
   ],
   "source": [
    "h(p)"
   ]
  },
  {
   "cell_type": "markdown",
   "metadata": {},
   "source": [
    "We can later define an expression using chart coordinates:"
   ]
  },
  {
   "cell_type": "code",
   "execution_count": 11,
   "metadata": {},
   "outputs": [
    {
     "data": {
      "text/html": [
       "<html><script type=\"math/tex; mode=display\">\\newcommand{\\Bold}[1]{\\mathbf{#1}}3</script></html>"
      ],
      "text/latex": [
       "\\begin{math}\n",
       "\\newcommand{\\Bold}[1]{\\mathbf{#1}}3\n",
       "\\end{math}"
      ],
      "text/plain": [
       "3"
      ]
     },
     "execution_count": 11,
     "metadata": {},
     "output_type": "execute_result"
    }
   ],
   "source": [
    "h.set_expr(x^2 + y)\n",
    "h(p)"
   ]
  },
  {
   "cell_type": "markdown",
   "metadata": {},
   "source": [
    "Which gets mapped into the other charts also:"
   ]
  },
  {
   "cell_type": "code",
   "execution_count": 12,
   "metadata": {},
   "outputs": [
    {
     "data": {
      "text/html": [
       "<html><script type=\"math/tex; mode=display\">\\newcommand{\\Bold}[1]{\\mathbf{#1}}\\begin{array}{llcl} h:& U & \\longrightarrow & \\mathbb{R} \\\\ & \\left(x, y, z\\right) & \\longmapsto & x^{2} + y \\\\ & \\left(r, {\\theta}, {\\phi}\\right) & \\longmapsto & r^{2} \\cos\\left({\\phi}\\right)^{2} \\sin\\left({\\theta}\\right)^{2} + r \\sin\\left({\\phi}\\right) \\sin\\left({\\theta}\\right) \\end{array}</script></html>"
      ],
      "text/latex": [
       "\\begin{math}\n",
       "\\newcommand{\\Bold}[1]{\\mathbf{#1}}\\begin{array}{llcl} h:& U & \\longrightarrow & \\mathbb{R} \\\\ & \\left(x, y, z\\right) & \\longmapsto & x^{2} + y \\\\ & \\left(r, {\\theta}, {\\phi}\\right) & \\longmapsto & r^{2} \\cos\\left({\\phi}\\right)^{2} \\sin\\left({\\theta}\\right)^{2} + r \\sin\\left({\\phi}\\right) \\sin\\left({\\theta}\\right) \\end{array}\n",
       "\\end{math}"
      ],
      "text/plain": [
       "h: U --> R\n",
       "   (x, y, z) |--> x^2 + y\n",
       "   (r, theta, phi) |--> r^2*cos(phi)^2*sin(theta)^2 + r*sin(phi)*sin(theta)"
      ]
     },
     "execution_count": 12,
     "metadata": {},
     "output_type": "execute_result"
    }
   ],
   "source": [
    "h.display()"
   ]
  },
  {
   "cell_type": "markdown",
   "metadata": {},
   "source": [
    "The `.set_expr()` method also accepts the `chart` keyword argument."
   ]
  },
  {
   "cell_type": "markdown",
   "metadata": {},
   "source": [
    "### Algebra <a name=\"0-Algebra\"></a>\n",
    "The parent of a function is the set $C^{\\infty}(U)$ of all smooth scalar field on $U$. It is a commutative algebra over $\\mathbb{R}$:"
   ]
  },
  {
   "cell_type": "code",
   "execution_count": 13,
   "metadata": {},
   "outputs": [
    {
     "name": "stdout",
     "output_type": "stream",
     "text": [
      "Algebra of differentiable scalar fields on the Open subset U of the 3-dimensional differentiable manifold M\n"
     ]
    },
    {
     "data": {
      "text/html": [
       "<html><script type=\"math/tex; mode=display\">\\newcommand{\\Bold}[1]{\\mathbf{#1}}\\left(C^{\\infty}\\left(U\\right), \\mathbf{CommutativeAlgebras}_{\\text{SR}}\\right)</script></html>"
      ],
      "text/latex": [
       "\\begin{math}\n",
       "\\newcommand{\\Bold}[1]{\\mathbf{#1}}\\left(C^{\\infty}\\left(U\\right), \\mathbf{CommutativeAlgebras}_{\\text{SR}}\\right)\n",
       "\\end{math}"
      ],
      "text/plain": [
       "(Algebra of differentiable scalar fields on the Open subset U of the 3-dimensional differentiable manifold M,\n",
       " Category of commutative algebras over Symbolic Ring)"
      ]
     },
     "execution_count": 13,
     "metadata": {},
     "output_type": "execute_result"
    }
   ],
   "source": [
    "CinfU = f.parent()\n",
    "print(CinfU)\n",
    "CinfU, CinfU.category()"
   ]
  },
  {
   "cell_type": "markdown",
   "metadata": {},
   "source": [
    "*NB:* the base ring of the algebra is $\\mathbb{R}$, which in SageMath is the Symbolic Ring (SR):"
   ]
  },
  {
   "cell_type": "code",
   "execution_count": 14,
   "metadata": {},
   "outputs": [
    {
     "data": {
      "text/html": [
       "<html><script type=\"math/tex; mode=display\">\\newcommand{\\Bold}[1]{\\mathbf{#1}}\\text{SR}</script></html>"
      ],
      "text/latex": [
       "\\begin{math}\n",
       "\\newcommand{\\Bold}[1]{\\mathbf{#1}}\\text{SR}\n",
       "\\end{math}"
      ],
      "text/plain": [
       "Symbolic Ring"
      ]
     },
     "execution_count": 14,
     "metadata": {},
     "output_type": "execute_result"
    }
   ],
   "source": [
    "CinfU.base_ring()"
   ]
  },
  {
   "cell_type": "markdown",
   "metadata": {},
   "source": [
    "Arithmetic operations are defined through the algebra structure:"
   ]
  },
  {
   "cell_type": "code",
   "execution_count": 15,
   "metadata": {},
   "outputs": [
    {
     "data": {
      "text/html": [
       "<html><script type=\"math/tex; mode=display\">\\newcommand{\\Bold}[1]{\\mathbf{#1}}\\begin{array}{llcl} & U & \\longrightarrow & \\mathbb{R} \\\\ & \\left(x, y, z\\right) & \\longmapsto & z^{3} + 2 \\, x^{2} + y^{2} + x + 2 \\, y \\\\ & \\left(r, {\\theta}, {\\phi}\\right) & \\longmapsto & r^{3} \\cos\\left({\\theta}\\right)^{3} + {\\left(\\cos\\left({\\phi}\\right)^{2} + 1\\right)} r^{2} \\sin\\left({\\theta}\\right)^{2} + r {\\left(\\cos\\left({\\phi}\\right) + 2 \\, \\sin\\left({\\phi}\\right)\\right)} \\sin\\left({\\theta}\\right) \\end{array}</script></html>"
      ],
      "text/latex": [
       "\\begin{math}\n",
       "\\newcommand{\\Bold}[1]{\\mathbf{#1}}\\begin{array}{llcl} & U & \\longrightarrow & \\mathbb{R} \\\\ & \\left(x, y, z\\right) & \\longmapsto & z^{3} + 2 \\, x^{2} + y^{2} + x + 2 \\, y \\\\ & \\left(r, {\\theta}, {\\phi}\\right) & \\longmapsto & r^{3} \\cos\\left({\\theta}\\right)^{3} + {\\left(\\cos\\left({\\phi}\\right)^{2} + 1\\right)} r^{2} \\sin\\left({\\theta}\\right)^{2} + r {\\left(\\cos\\left({\\phi}\\right) + 2 \\, \\sin\\left({\\phi}\\right)\\right)} \\sin\\left({\\theta}\\right) \\end{array}\n",
       "\\end{math}"
      ],
      "text/plain": [
       "U --> R\n",
       "(x, y, z) |--> z^3 + 2*x^2 + y^2 + x + 2*y\n",
       "(r, theta, phi) |--> r^3*cos(theta)^3 + (cos(phi)^2 + 1)*r^2*sin(theta)^2 + r*(cos(phi) + 2*sin(phi))*sin(theta)"
      ]
     },
     "execution_count": 15,
     "metadata": {},
     "output_type": "execute_result"
    }
   ],
   "source": [
    "s = f + 2 * h\n",
    "s.display()"
   ]
  },
  {
   "cell_type": "markdown",
   "metadata": {},
   "source": [
    "## Tangent spaces <a name=\"0-Tangent-spaces\"></a>\n",
    "We can obtain the tangent vector space to some $p \\in \\mathcal{M}$ through:"
   ]
  },
  {
   "cell_type": "code",
   "execution_count": 16,
   "metadata": {},
   "outputs": [
    {
     "data": {
      "text/html": [
       "<html><script type=\"math/tex; mode=display\">\\newcommand{\\Bold}[1]{\\mathbf{#1}}T_{p}\\,\\mathcal{M}</script></html>"
      ],
      "text/latex": [
       "\\begin{math}\n",
       "\\newcommand{\\Bold}[1]{\\mathbf{#1}}T_{p}\\,\\mathcal{M}\n",
       "\\end{math}"
      ],
      "text/plain": [
       "Tangent space at Point p on the 3-dimensional differentiable manifold M"
      ]
     },
     "execution_count": 16,
     "metadata": {},
     "output_type": "execute_result"
    }
   ],
   "source": [
    "Tp = M.tangent_space(p)\n",
    "Tp"
   ]
  },
  {
   "cell_type": "markdown",
   "metadata": {},
   "source": [
    "The tangent space is a 2-dimensional vector space over $\\mathbb{R}$ (SR):"
   ]
  },
  {
   "cell_type": "code",
   "execution_count": 17,
   "metadata": {
    "scrolled": true
   },
   "outputs": [
    {
     "name": "stdout",
     "output_type": "stream",
     "text": [
      "Category of finite dimensional vector spaces over Symbolic Ring\n"
     ]
    },
    {
     "data": {
      "text/html": [
       "<html><script type=\"math/tex; mode=display\">\\newcommand{\\Bold}[1]{\\mathbf{#1}}\\mathbf{JoinCategory}</script></html>"
      ],
      "text/latex": [
       "\\begin{math}\n",
       "\\newcommand{\\Bold}[1]{\\mathbf{#1}}\\mathbf{JoinCategory}\n",
       "\\end{math}"
      ],
      "text/plain": [
       "Category of finite dimensional vector spaces over Symbolic Ring"
      ]
     },
     "execution_count": 17,
     "metadata": {},
     "output_type": "execute_result"
    }
   ],
   "source": [
    "print(Tp.category())\n",
    "Tp.category()"
   ]
  },
  {
   "cell_type": "markdown",
   "metadata": {},
   "source": [
    "Basic operations include obtaining the dimensions:"
   ]
  },
  {
   "cell_type": "code",
   "execution_count": 18,
   "metadata": {},
   "outputs": [
    {
     "data": {
      "text/html": [
       "<html><script type=\"math/tex; mode=display\">\\newcommand{\\Bold}[1]{\\mathbf{#1}}3</script></html>"
      ],
      "text/latex": [
       "\\begin{math}\n",
       "\\newcommand{\\Bold}[1]{\\mathbf{#1}}3\n",
       "\\end{math}"
      ],
      "text/plain": [
       "3"
      ]
     },
     "execution_count": 18,
     "metadata": {},
     "output_type": "execute_result"
    }
   ],
   "source": [
    "Tp.dim()"
   ]
  },
  {
   "cell_type": "markdown",
   "metadata": {},
   "source": [
    "The endowed bases (deduced from the frames at $p$):"
   ]
  },
  {
   "cell_type": "code",
   "execution_count": 19,
   "metadata": {
    "scrolled": true
   },
   "outputs": [
    {
     "data": {
      "text/html": [
       "<html><script type=\"math/tex; mode=display\">\\newcommand{\\Bold}[1]{\\mathbf{#1}}\\left[\\left(\\frac{\\partial}{\\partial x },\\frac{\\partial}{\\partial y },\\frac{\\partial}{\\partial z }\\right), \\left(\\frac{\\partial}{\\partial r },\\frac{\\partial}{\\partial {\\theta} },\\frac{\\partial}{\\partial {\\phi} }\\right)\\right]</script></html>"
      ],
      "text/latex": [
       "\\begin{math}\n",
       "\\newcommand{\\Bold}[1]{\\mathbf{#1}}\\left[\\left(\\frac{\\partial}{\\partial x },\\frac{\\partial}{\\partial y },\\frac{\\partial}{\\partial z }\\right), \\left(\\frac{\\partial}{\\partial r },\\frac{\\partial}{\\partial {\\theta} },\\frac{\\partial}{\\partial {\\phi} }\\right)\\right]\n",
       "\\end{math}"
      ],
      "text/plain": [
       "[Basis (d/dx,d/dy,d/dz) on the Tangent space at Point p on the 3-dimensional differentiable manifold M,\n",
       " Basis (d/dr,d/dtheta,d/dphi) on the Tangent space at Point p on the 3-dimensional differentiable manifold M]"
      ]
     },
     "execution_count": 19,
     "metadata": {},
     "output_type": "execute_result"
    }
   ],
   "source": [
    "Tp.bases()"
   ]
  },
  {
   "cell_type": "markdown",
   "metadata": {},
   "source": [
    "The tangent space at $q \\in \\mathcal{M}, q \\notin U$ has only one basis, namely the frame given by the coordinates of `X`:"
   ]
  },
  {
   "cell_type": "code",
   "execution_count": 20,
   "metadata": {},
   "outputs": [
    {
     "data": {
      "text/html": [
       "<html><script type=\"math/tex; mode=display\">\\newcommand{\\Bold}[1]{\\mathbf{#1}}\\left[\\left(\\frac{\\partial}{\\partial x },\\frac{\\partial}{\\partial y },\\frac{\\partial}{\\partial z }\\right)\\right]</script></html>"
      ],
      "text/latex": [
       "\\begin{math}\n",
       "\\newcommand{\\Bold}[1]{\\mathbf{#1}}\\left[\\left(\\frac{\\partial}{\\partial x },\\frac{\\partial}{\\partial y },\\frac{\\partial}{\\partial z }\\right)\\right]\n",
       "\\end{math}"
      ],
      "text/plain": [
       "[Basis (d/dx,d/dy,d/dz) on the Tangent space at Point q on the 3-dimensional differentiable manifold M]"
      ]
     },
     "execution_count": 20,
     "metadata": {},
     "output_type": "execute_result"
    }
   ],
   "source": [
    "q = M.point((1, 0, 2), name=\"q\")\n",
    "\n",
    "Tq = M.tangent_space(q)\n",
    "Tq.bases()"
   ]
  },
  {
   "cell_type": "markdown",
   "metadata": {},
   "source": [
    "### Elements of $T_x\\mathcal{M}$ <a name=\"0-Elements-of-$T_x\\mathcal{M}$\"></a>\n",
    "We can obtain a random element of the tangent space using the `.an_element()` method:"
   ]
  },
  {
   "cell_type": "code",
   "execution_count": 21,
   "metadata": {
    "scrolled": true
   },
   "outputs": [
    {
     "name": "stdout",
     "output_type": "stream",
     "text": [
      "Tangent vector at Point p on the 3-dimensional differentiable manifold M\n"
     ]
    },
    {
     "data": {
      "text/html": [
       "<html><script type=\"math/tex; mode=display\">\\newcommand{\\Bold}[1]{\\mathbf{#1}}\\frac{\\partial}{\\partial x } + 2 \\frac{\\partial}{\\partial y } + 3 \\frac{\\partial}{\\partial z }</script></html>"
      ],
      "text/latex": [
       "\\begin{math}\n",
       "\\newcommand{\\Bold}[1]{\\mathbf{#1}}\\frac{\\partial}{\\partial x } + 2 \\frac{\\partial}{\\partial y } + 3 \\frac{\\partial}{\\partial z }\n",
       "\\end{math}"
      ],
      "text/plain": [
       "d/dx + 2 d/dy + 3 d/dz"
      ]
     },
     "execution_count": 21,
     "metadata": {},
     "output_type": "execute_result"
    }
   ],
   "source": [
    "v = Tp.an_element()\n",
    "print(v)\n",
    "v.display()"
   ]
  },
  {
   "cell_type": "code",
   "execution_count": 22,
   "metadata": {},
   "outputs": [
    {
     "name": "stdout",
     "output_type": "stream",
     "text": [
      "Tangent vector at Point q on the 3-dimensional differentiable manifold M\n"
     ]
    },
    {
     "data": {
      "text/html": [
       "<html><script type=\"math/tex; mode=display\">\\newcommand{\\Bold}[1]{\\mathbf{#1}}\\frac{\\partial}{\\partial x } + 2 \\frac{\\partial}{\\partial y } + 3 \\frac{\\partial}{\\partial z }</script></html>"
      ],
      "text/latex": [
       "\\begin{math}\n",
       "\\newcommand{\\Bold}[1]{\\mathbf{#1}}\\frac{\\partial}{\\partial x } + 2 \\frac{\\partial}{\\partial y } + 3 \\frac{\\partial}{\\partial z }\n",
       "\\end{math}"
      ],
      "text/plain": [
       "d/dx + 2 d/dy + 3 d/dz"
      ]
     },
     "execution_count": 22,
     "metadata": {},
     "output_type": "execute_result"
    }
   ],
   "source": [
    "u = Tq.an_element()\n",
    "print(u)\n",
    "u.display()"
   ]
  },
  {
   "cell_type": "markdown",
   "metadata": {},
   "source": [
    "Note that desipte the similar expresion, u and v are different vectors, as they are defined on different tangent spaces, themselves defined for different points:"
   ]
  },
  {
   "cell_type": "code",
   "execution_count": 23,
   "metadata": {},
   "outputs": [
    {
     "data": {
      "text/html": [
       "<html><script type=\"math/tex; mode=display\">\\newcommand{\\Bold}[1]{\\mathbf{#1}}\\mathrm{False}</script></html>"
      ],
      "text/latex": [
       "\\begin{math}\n",
       "\\newcommand{\\Bold}[1]{\\mathbf{#1}}\\mathrm{False}\n",
       "\\end{math}"
      ],
      "text/plain": [
       "False"
      ]
     },
     "execution_count": 23,
     "metadata": {},
     "output_type": "execute_result"
    }
   ],
   "source": [
    "u is v"
   ]
  },
  {
   "cell_type": "code",
   "execution_count": 24,
   "metadata": {},
   "outputs": [
    {
     "data": {
      "text/html": [
       "<html><script type=\"math/tex; mode=display\">\\newcommand{\\Bold}[1]{\\mathbf{#1}}\\left(T_{q}\\,\\mathcal{M}, T_{p}\\,\\mathcal{M}\\right)</script></html>"
      ],
      "text/latex": [
       "\\begin{math}\n",
       "\\newcommand{\\Bold}[1]{\\mathbf{#1}}\\left(T_{q}\\,\\mathcal{M}, T_{p}\\,\\mathcal{M}\\right)\n",
       "\\end{math}"
      ],
      "text/plain": [
       "(Tangent space at Point q on the 3-dimensional differentiable manifold M,\n",
       " Tangent space at Point p on the 3-dimensional differentiable manifold M)"
      ]
     },
     "execution_count": 24,
     "metadata": {},
     "output_type": "execute_result"
    }
   ],
   "source": [
    "u.parent(), v.parent()"
   ]
  },
  {
   "cell_type": "markdown",
   "metadata": {},
   "source": [
    "As such, arithmetic operations do not exist between them:"
   ]
  },
  {
   "cell_type": "code",
   "execution_count": 25,
   "metadata": {},
   "outputs": [
    {
     "name": "stdout",
     "output_type": "stream",
     "text": [
      "Error: unsupported operand parent(s) for +: 'Tangent space at Point p on the 3-dimensional differentiable manifold M' and 'Tangent space at Point q on the 3-dimensional differentiable manifold M'\n"
     ]
    }
   ],
   "source": [
    "try:\n",
    "    v + u\n",
    "except TypeError as e:\n",
    "    print(f\"Error: {str(e)}\")"
   ]
  },
  {
   "cell_type": "markdown",
   "metadata": {},
   "source": [
    "## Vector fields <a name=\"0-Vector-fields\"></a>\n",
    "Each chart defines a vector frame on the chart domain; the *coordinate basis*:"
   ]
  },
  {
   "cell_type": "code",
   "execution_count": 26,
   "metadata": {},
   "outputs": [
    {
     "name": "stdout",
     "output_type": "stream",
     "text": [
      "Coordinate frame (M, (d/dx,d/dy,d/dz))\n"
     ]
    },
    {
     "data": {
      "text/html": [
       "<html><script type=\"math/tex; mode=display\">\\newcommand{\\Bold}[1]{\\mathbf{#1}}\\left(\\mathcal{M}, \\left(\\frac{\\partial}{\\partial x },\\frac{\\partial}{\\partial y },\\frac{\\partial}{\\partial z }\\right)\\right)</script></html>"
      ],
      "text/latex": [
       "\\begin{math}\n",
       "\\newcommand{\\Bold}[1]{\\mathbf{#1}}\\left(\\mathcal{M}, \\left(\\frac{\\partial}{\\partial x },\\frac{\\partial}{\\partial y },\\frac{\\partial}{\\partial z }\\right)\\right)\n",
       "\\end{math}"
      ],
      "text/plain": [
       "Coordinate frame (M, (d/dx,d/dy,d/dz))"
      ]
     },
     "execution_count": 26,
     "metadata": {},
     "output_type": "execute_result"
    }
   ],
   "source": [
    "print(X.frame())\n",
    "X.frame()"
   ]
  },
  {
   "cell_type": "markdown",
   "metadata": {},
   "source": [
    "To get the frames defined on a manifold, we use"
   ]
  },
  {
   "cell_type": "code",
   "execution_count": 27,
   "metadata": {},
   "outputs": [
    {
     "data": {
      "text/html": [
       "<html><script type=\"math/tex; mode=display\">\\newcommand{\\Bold}[1]{\\mathbf{#1}}\\left[\\left(\\mathcal{M}, \\left(\\frac{\\partial}{\\partial x },\\frac{\\partial}{\\partial y },\\frac{\\partial}{\\partial z }\\right)\\right), \\left(U, \\left(\\frac{\\partial}{\\partial x },\\frac{\\partial}{\\partial y },\\frac{\\partial}{\\partial z }\\right)\\right), \\left(U, \\left(\\frac{\\partial}{\\partial r },\\frac{\\partial}{\\partial {\\theta} },\\frac{\\partial}{\\partial {\\phi} }\\right)\\right)\\right]</script></html>"
      ],
      "text/latex": [
       "\\begin{math}\n",
       "\\newcommand{\\Bold}[1]{\\mathbf{#1}}\\left[\\left(\\mathcal{M}, \\left(\\frac{\\partial}{\\partial x },\\frac{\\partial}{\\partial y },\\frac{\\partial}{\\partial z }\\right)\\right), \\left(U, \\left(\\frac{\\partial}{\\partial x },\\frac{\\partial}{\\partial y },\\frac{\\partial}{\\partial z }\\right)\\right), \\left(U, \\left(\\frac{\\partial}{\\partial r },\\frac{\\partial}{\\partial {\\theta} },\\frac{\\partial}{\\partial {\\phi} }\\right)\\right)\\right]\n",
       "\\end{math}"
      ],
      "text/plain": [
       "[Coordinate frame (M, (d/dx,d/dy,d/dz)),\n",
       " Coordinate frame (U, (d/dx,d/dy,d/dz)),\n",
       " Coordinate frame (U, (d/dr,d/dtheta,d/dphi))]"
      ]
     },
     "execution_count": 27,
     "metadata": {},
     "output_type": "execute_result"
    }
   ],
   "source": [
    "M.frames()"
   ]
  },
  {
   "cell_type": "markdown",
   "metadata": {},
   "source": [
    "Or for the default frame (which can be set using `.set_default_frame()`), which is associated with the default chart:"
   ]
  },
  {
   "cell_type": "code",
   "execution_count": 28,
   "metadata": {},
   "outputs": [
    {
     "data": {
      "text/html": [
       "<html><script type=\"math/tex; mode=display\">\\newcommand{\\Bold}[1]{\\mathbf{#1}}\\left(\\mathcal{M}, \\left(\\frac{\\partial}{\\partial x },\\frac{\\partial}{\\partial y },\\frac{\\partial}{\\partial z }\\right)\\right)</script></html>"
      ],
      "text/latex": [
       "\\begin{math}\n",
       "\\newcommand{\\Bold}[1]{\\mathbf{#1}}\\left(\\mathcal{M}, \\left(\\frac{\\partial}{\\partial x },\\frac{\\partial}{\\partial y },\\frac{\\partial}{\\partial z }\\right)\\right)\n",
       "\\end{math}"
      ],
      "text/plain": [
       "Coordinate frame (M, (d/dx,d/dy,d/dz))"
      ]
     },
     "execution_count": 28,
     "metadata": {},
     "output_type": "execute_result"
    }
   ],
   "source": [
    "M.default_frame()"
   ]
  },
  {
   "cell_type": "code",
   "execution_count": 29,
   "metadata": {},
   "outputs": [
    {
     "data": {
      "text/html": [
       "<html><script type=\"math/tex; mode=display\">\\newcommand{\\Bold}[1]{\\mathbf{#1}}\\mathrm{True}</script></html>"
      ],
      "text/latex": [
       "\\begin{math}\n",
       "\\newcommand{\\Bold}[1]{\\mathbf{#1}}\\mathrm{True}\n",
       "\\end{math}"
      ],
      "text/plain": [
       "True"
      ]
     },
     "execution_count": 29,
     "metadata": {},
     "output_type": "execute_result"
    }
   ],
   "source": [
    "M.default_frame() is M.default_chart().frame()"
   ]
  },
  {
   "cell_type": "markdown",
   "metadata": {},
   "source": [
    "Frame elements can be indexed:"
   ]
  },
  {
   "cell_type": "code",
   "execution_count": 30,
   "metadata": {},
   "outputs": [
    {
     "data": {
      "text/html": [
       "<html><script type=\"math/tex; mode=display\">\\newcommand{\\Bold}[1]{\\mathbf{#1}}\\frac{\\partial}{\\partial z }</script></html>"
      ],
      "text/latex": [
       "\\begin{math}\n",
       "\\newcommand{\\Bold}[1]{\\mathbf{#1}}\\frac{\\partial}{\\partial z }\n",
       "\\end{math}"
      ],
      "text/plain": [
       "Vector field d/dz on the 3-dimensional differentiable manifold M"
      ]
     },
     "execution_count": 30,
     "metadata": {},
     "output_type": "execute_result"
    }
   ],
   "source": [
    "e_frame = M.default_frame()\n",
    "e2 = e_frame[2]\n",
    "e2"
   ]
  },
  {
   "cell_type": "markdown",
   "metadata": {},
   "source": [
    "### Element algebra <a name=\"0-Element-algebra\"></a>\n",
    "We can define new vector fields through:"
   ]
  },
  {
   "cell_type": "code",
   "execution_count": 31,
   "metadata": {},
   "outputs": [
    {
     "data": {
      "text/html": [
       "<html><script type=\"math/tex; mode=display\">\\newcommand{\\Bold}[1]{\\mathbf{#1}}\\frac{\\partial}{\\partial y } + 2 \\, x \\frac{\\partial}{\\partial z }</script></html>"
      ],
      "text/latex": [
       "\\begin{math}\n",
       "\\newcommand{\\Bold}[1]{\\mathbf{#1}}\\frac{\\partial}{\\partial y } + 2 \\, x \\frac{\\partial}{\\partial z }\n",
       "\\end{math}"
      ],
      "text/plain": [
       "d/dy + 2*x d/dz"
      ]
     },
     "execution_count": 31,
     "metadata": {},
     "output_type": "execute_result"
    }
   ],
   "source": [
    "v = e_frame[1] + 2 * x * e_frame[2]\n",
    "v.display()"
   ]
  },
  {
   "cell_type": "markdown",
   "metadata": {},
   "source": [
    "A vector field may be defined by components with respect to a given vector frame. If the frame is unspecified, SageManifold uses the open-set's default frame:"
   ]
  },
  {
   "cell_type": "code",
   "execution_count": 32,
   "metadata": {},
   "outputs": [
    {
     "data": {
      "text/html": [
       "<html><script type=\"math/tex; mode=display\">\\newcommand{\\Bold}[1]{\\mathbf{#1}}v = \\left( y + 1 \\right) \\frac{\\partial}{\\partial x } -x \\frac{\\partial}{\\partial y } + x y z \\frac{\\partial}{\\partial z }</script></html>"
      ],
      "text/latex": [
       "\\begin{math}\n",
       "\\newcommand{\\Bold}[1]{\\mathbf{#1}}v = \\left( y + 1 \\right) \\frac{\\partial}{\\partial x } -x \\frac{\\partial}{\\partial y } + x y z \\frac{\\partial}{\\partial z }\n",
       "\\end{math}"
      ],
      "text/plain": [
       "v = (y + 1) d/dx - x d/dy + x*y*z d/dz"
      ]
     },
     "execution_count": 32,
     "metadata": {},
     "output_type": "execute_result"
    }
   ],
   "source": [
    "v = U.vector_field(name=\"v\")\n",
    "\n",
    "v[0] = 1 + y\n",
    "v[1] = -x\n",
    "v[2] = x * y * z\n",
    "\n",
    "v.display()"
   ]
  },
  {
   "cell_type": "markdown",
   "metadata": {},
   "source": [
    "The above is equivalent to passing the components as arguments:"
   ]
  },
  {
   "cell_type": "code",
   "execution_count": 33,
   "metadata": {},
   "outputs": [
    {
     "data": {
      "text/html": [
       "<html><script type=\"math/tex; mode=display\">\\newcommand{\\Bold}[1]{\\mathbf{#1}}v = \\left( y + 1 \\right) \\frac{\\partial}{\\partial x } -x \\frac{\\partial}{\\partial y } + x y z \\frac{\\partial}{\\partial z }</script></html>"
      ],
      "text/latex": [
       "\\begin{math}\n",
       "\\newcommand{\\Bold}[1]{\\mathbf{#1}}v = \\left( y + 1 \\right) \\frac{\\partial}{\\partial x } -x \\frac{\\partial}{\\partial y } + x y z \\frac{\\partial}{\\partial z }\n",
       "\\end{math}"
      ],
      "text/plain": [
       "v = (y + 1) d/dx - x d/dy + x*y*z d/dz"
      ]
     },
     "execution_count": 33,
     "metadata": {},
     "output_type": "execute_result"
    }
   ],
   "source": [
    "v = U.vector_field(1 + y, -x, x * y * z, name=\"v\")\n",
    "v.display()"
   ]
  },
  {
   "cell_type": "markdown",
   "metadata": {},
   "source": [
    "Components we do not set are assumed to be zero:"
   ]
  },
  {
   "cell_type": "code",
   "execution_count": 34,
   "metadata": {},
   "outputs": [
    {
     "data": {
      "text/html": [
       "<html><script type=\"math/tex; mode=display\">\\newcommand{\\Bold}[1]{\\mathbf{#1}}w = 3 \\frac{\\partial}{\\partial z }</script></html>"
      ],
      "text/latex": [
       "\\begin{math}\n",
       "\\newcommand{\\Bold}[1]{\\mathbf{#1}}w = 3 \\frac{\\partial}{\\partial z }\n",
       "\\end{math}"
      ],
      "text/plain": [
       "w = 3 d/dz"
      ]
     },
     "execution_count": 34,
     "metadata": {},
     "output_type": "execute_result"
    }
   ],
   "source": [
    "w = U.vector_field(name=\"w\")\n",
    "\n",
    "w[2] = 3\n",
    "\n",
    "w.display()"
   ]
  },
  {
   "cell_type": "markdown",
   "metadata": {},
   "source": [
    "Vector fields on $U$ are SageMath elements, whose parents are the set $\\mathfrak{X}(U)$ of vector fields defined on $U$:"
   ]
  },
  {
   "cell_type": "code",
   "execution_count": 35,
   "metadata": {},
   "outputs": [
    {
     "data": {
      "text/html": [
       "<html><script type=\"math/tex; mode=display\">\\newcommand{\\Bold}[1]{\\mathbf{#1}}\\mathfrak{X}\\left(U\\right)</script></html>"
      ],
      "text/latex": [
       "\\begin{math}\n",
       "\\newcommand{\\Bold}[1]{\\mathbf{#1}}\\mathfrak{X}\\left(U\\right)\n",
       "\\end{math}"
      ],
      "text/plain": [
       "Free module X(U) of vector fields on the Open subset U of the 3-dimensional differentiable manifold M"
      ]
     },
     "execution_count": 35,
     "metadata": {},
     "output_type": "execute_result"
    }
   ],
   "source": [
    "v.parent()"
   ]
  },
  {
   "cell_type": "markdown",
   "metadata": {},
   "source": [
    "$\\mathfrak{X}(U)$ is a module over the commutative algebra $C^\\infty(U)$ of scalar fields on $U$:"
   ]
  },
  {
   "cell_type": "code",
   "execution_count": 36,
   "metadata": {},
   "outputs": [
    {
     "name": "stdout",
     "output_type": "stream",
     "text": [
      "Free module X(U) of vector fields on the Open subset U of the 3-dimensional differentiable manifold M\n"
     ]
    }
   ],
   "source": [
    "print(v.parent())"
   ]
  },
  {
   "cell_type": "code",
   "execution_count": 37,
   "metadata": {},
   "outputs": [
    {
     "data": {
      "text/html": [
       "<html><script type=\"math/tex; mode=display\">\\newcommand{\\Bold}[1]{\\mathbf{#1}}C^{\\infty}\\left(U\\right)</script></html>"
      ],
      "text/latex": [
       "\\begin{math}\n",
       "\\newcommand{\\Bold}[1]{\\mathbf{#1}}C^{\\infty}\\left(U\\right)\n",
       "\\end{math}"
      ],
      "text/plain": [
       "Algebra of differentiable scalar fields on the Open subset U of the 3-dimensional differentiable manifold M"
      ]
     },
     "execution_count": 37,
     "metadata": {},
     "output_type": "execute_result"
    }
   ],
   "source": [
    "v.parent().base_ring()"
   ]
  },
  {
   "cell_type": "markdown",
   "metadata": {},
   "source": [
    "### Action <a name=\"0-Action\"></a>\n",
    "A vector field acts on scalar fields:"
   ]
  },
  {
   "cell_type": "code",
   "execution_count": 38,
   "metadata": {},
   "outputs": [
    {
     "data": {
      "text/html": [
       "<html><script type=\"math/tex; mode=display\">\\newcommand{\\Bold}[1]{\\mathbf{#1}}\\begin{array}{llcl} f:& U & \\longrightarrow & \\mathbb{R} \\\\ & \\left(x, y, z\\right) & \\longmapsto & z^{3} + y^{2} + x \\\\ & \\left(r, {\\theta}, {\\phi}\\right) & \\longmapsto & r^{3} \\cos\\left({\\theta}\\right)^{3} + r^{2} \\sin\\left({\\phi}\\right)^{2} \\sin\\left({\\theta}\\right)^{2} + r \\cos\\left({\\phi}\\right) \\sin\\left({\\theta}\\right) \\end{array}</script></html>"
      ],
      "text/latex": [
       "\\begin{math}\n",
       "\\newcommand{\\Bold}[1]{\\mathbf{#1}}\\begin{array}{llcl} f:& U & \\longrightarrow & \\mathbb{R} \\\\ & \\left(x, y, z\\right) & \\longmapsto & z^{3} + y^{2} + x \\\\ & \\left(r, {\\theta}, {\\phi}\\right) & \\longmapsto & r^{3} \\cos\\left({\\theta}\\right)^{3} + r^{2} \\sin\\left({\\phi}\\right)^{2} \\sin\\left({\\theta}\\right)^{2} + r \\cos\\left({\\phi}\\right) \\sin\\left({\\theta}\\right) \\end{array}\n",
       "\\end{math}"
      ],
      "text/plain": [
       "f: U --> R\n",
       "   (x, y, z) |--> z^3 + y^2 + x\n",
       "   (r, theta, phi) |--> r^3*cos(theta)^3 + r^2*sin(phi)^2*sin(theta)^2 + r*cos(phi)*sin(theta)"
      ]
     },
     "execution_count": 38,
     "metadata": {},
     "output_type": "execute_result"
    }
   ],
   "source": [
    "f.display()"
   ]
  },
  {
   "cell_type": "code",
   "execution_count": 39,
   "metadata": {},
   "outputs": [
    {
     "data": {
      "text/html": [
       "<html><script type=\"math/tex; mode=display\">\\newcommand{\\Bold}[1]{\\mathbf{#1}}\\begin{array}{llcl} v\\left(f\\right):& U & \\longrightarrow & \\mathbb{R} \\\\ & \\left(x, y, z\\right) & \\longmapsto & 3 \\, x y z^{3} - {\\left(2 \\, x - 1\\right)} y + 1 \\\\ & \\left(r, {\\theta}, {\\phi}\\right) & \\longmapsto & -3 \\, r^{5} \\cos\\left({\\phi}\\right) \\cos\\left({\\theta}\\right)^{5} \\sin\\left({\\phi}\\right) + 3 \\, r^{5} \\cos\\left({\\phi}\\right) \\cos\\left({\\theta}\\right)^{3} \\sin\\left({\\phi}\\right) - 2 \\, r^{2} \\cos\\left({\\phi}\\right) \\sin\\left({\\phi}\\right) \\sin\\left({\\theta}\\right)^{2} + r \\sin\\left({\\phi}\\right) \\sin\\left({\\theta}\\right) + 1 \\end{array}</script></html>"
      ],
      "text/latex": [
       "\\begin{math}\n",
       "\\newcommand{\\Bold}[1]{\\mathbf{#1}}\\begin{array}{llcl} v\\left(f\\right):& U & \\longrightarrow & \\mathbb{R} \\\\ & \\left(x, y, z\\right) & \\longmapsto & 3 \\, x y z^{3} - {\\left(2 \\, x - 1\\right)} y + 1 \\\\ & \\left(r, {\\theta}, {\\phi}\\right) & \\longmapsto & -3 \\, r^{5} \\cos\\left({\\phi}\\right) \\cos\\left({\\theta}\\right)^{5} \\sin\\left({\\phi}\\right) + 3 \\, r^{5} \\cos\\left({\\phi}\\right) \\cos\\left({\\theta}\\right)^{3} \\sin\\left({\\phi}\\right) - 2 \\, r^{2} \\cos\\left({\\phi}\\right) \\sin\\left({\\phi}\\right) \\sin\\left({\\theta}\\right)^{2} + r \\sin\\left({\\phi}\\right) \\sin\\left({\\theta}\\right) + 1 \\end{array}\n",
       "\\end{math}"
      ],
      "text/plain": [
       "v(f): U --> R\n",
       "   (x, y, z) |--> 3*x*y*z^3 - (2*x - 1)*y + 1\n",
       "   (r, theta, phi) |--> -3*r^5*cos(phi)*cos(theta)^5*sin(phi) + 3*r^5*cos(phi)*cos(theta)^3*sin(phi) - 2*r^2*cos(phi)*sin(phi)*sin(theta)^2 + r*sin(phi)*sin(theta) + 1"
      ]
     },
     "execution_count": 39,
     "metadata": {},
     "output_type": "execute_result"
    }
   ],
   "source": [
    "s = v(f)\n",
    "s.display()"
   ]
  },
  {
   "cell_type": "markdown",
   "metadata": {},
   "source": [
    "Or component wise:"
   ]
  },
  {
   "cell_type": "code",
   "execution_count": 40,
   "metadata": {},
   "outputs": [
    {
     "data": {
      "text/html": [
       "<html><script type=\"math/tex; mode=display\">\\newcommand{\\Bold}[1]{\\mathbf{#1}}\\begin{array}{llcl} \\frac{\\partial}{\\partial z } \\left( f \\right) : & U & \\longrightarrow & \\mathbb{R} \\\\ & \\left(x, y, z\\right) & \\longmapsto & 3 \\, z^{2} \\\\ & \\left(r, {\\theta}, {\\phi}\\right) & \\longmapsto & 3 \\, r^{2} \\cos\\left({\\theta}\\right)^{2} \\end{array}</script></html>"
      ],
      "text/latex": [
       "\\begin{math}\n",
       "\\newcommand{\\Bold}[1]{\\mathbf{#1}}\\begin{array}{llcl} \\frac{\\partial}{\\partial z } \\left( f \\right) : & U & \\longrightarrow & \\mathbb{R} \\\\ & \\left(x, y, z\\right) & \\longmapsto & 3 \\, z^{2} \\\\ & \\left(r, {\\theta}, {\\phi}\\right) & \\longmapsto & 3 \\, r^{2} \\cos\\left({\\theta}\\right)^{2} \\end{array}\n",
       "\\end{math}"
      ],
      "text/plain": [
       "d/dz(f): U --> R\n",
       "   (x, y, z) |--> 3*z^2\n",
       "   (r, theta, phi) |--> 3*r^2*cos(theta)^2"
      ]
     },
     "execution_count": 40,
     "metadata": {},
     "output_type": "execute_result"
    }
   ],
   "source": [
    "e_frame[2](f).display()"
   ]
  },
  {
   "cell_type": "markdown",
   "metadata": {},
   "source": [
    "A vector field on $U$ may be expanded in the frame associated with a chart; e.g.:"
   ]
  },
  {
   "cell_type": "code",
   "execution_count": 41,
   "metadata": {},
   "outputs": [
    {
     "data": {
      "text/html": [
       "<html><script type=\"math/tex; mode=display\">\\newcommand{\\Bold}[1]{\\mathbf{#1}}v = \\left( \\frac{x y z^{2} + x}{\\sqrt{x^{2} + y^{2} + z^{2}}} \\right) \\frac{\\partial}{\\partial r } + \\left( -\\frac{{\\left(x^{3} y + x y^{3} - x\\right)} \\sqrt{x^{2} + y^{2}} z}{x^{4} + 2 \\, x^{2} y^{2} + y^{4} + {\\left(x^{2} + y^{2}\\right)} z^{2}} \\right) \\frac{\\partial}{\\partial {\\theta} } + \\left( -\\frac{x^{2} + y^{2} + y}{x^{2} + y^{2}} \\right) \\frac{\\partial}{\\partial {\\phi} }</script></html>"
      ],
      "text/latex": [
       "\\begin{math}\n",
       "\\newcommand{\\Bold}[1]{\\mathbf{#1}}v = \\left( \\frac{x y z^{2} + x}{\\sqrt{x^{2} + y^{2} + z^{2}}} \\right) \\frac{\\partial}{\\partial r } + \\left( -\\frac{{\\left(x^{3} y + x y^{3} - x\\right)} \\sqrt{x^{2} + y^{2}} z}{x^{4} + 2 \\, x^{2} y^{2} + y^{4} + {\\left(x^{2} + y^{2}\\right)} z^{2}} \\right) \\frac{\\partial}{\\partial {\\theta} } + \\left( -\\frac{x^{2} + y^{2} + y}{x^{2} + y^{2}} \\right) \\frac{\\partial}{\\partial {\\phi} }\n",
       "\\end{math}"
      ],
      "text/plain": [
       "v = (x*y*z^2 + x)/sqrt(x^2 + y^2 + z^2) d/dr - (x^3*y + x*y^3 - x)*sqrt(x^2 + y^2)*z/(x^4 + 2*x^2*y^2 + y^4 + (x^2 + y^2)*z^2) d/dtheta - (x^2 + y^2 + y)/(x^2 + y^2) d/dphi"
      ]
     },
     "execution_count": 41,
     "metadata": {},
     "output_type": "execute_result"
    }
   ],
   "source": [
    "v.display(Y.frame())"
   ]
  },
  {
   "cell_type": "markdown",
   "metadata": {},
   "source": [
    "By default, this will display in the default chart's coordinates. We can also display the vector field in different coordinates:"
   ]
  },
  {
   "cell_type": "code",
   "execution_count": 42,
   "metadata": {},
   "outputs": [
    {
     "data": {
      "text/html": [
       "<html><script type=\"math/tex; mode=display\">\\newcommand{\\Bold}[1]{\\mathbf{#1}}v = \\left( r^{3} \\cos\\left({\\phi}\\right) \\cos\\left({\\theta}\\right)^{2} \\sin\\left({\\phi}\\right) \\sin\\left({\\theta}\\right)^{2} + \\cos\\left({\\phi}\\right) \\sin\\left({\\theta}\\right) \\right) \\frac{\\partial}{\\partial r } + \\left( -\\frac{r^{3} \\cos\\left({\\phi}\\right) \\cos\\left({\\theta}\\right) \\sin\\left({\\phi}\\right) \\sin\\left({\\theta}\\right)^{3} - \\cos\\left({\\phi}\\right) \\cos\\left({\\theta}\\right)}{r} \\right) \\frac{\\partial}{\\partial {\\theta} } + \\left( -\\frac{r \\sin\\left({\\theta}\\right) + \\sin\\left({\\phi}\\right)}{r \\sin\\left({\\theta}\\right)} \\right) \\frac{\\partial}{\\partial {\\phi} }</script></html>"
      ],
      "text/latex": [
       "\\begin{math}\n",
       "\\newcommand{\\Bold}[1]{\\mathbf{#1}}v = \\left( r^{3} \\cos\\left({\\phi}\\right) \\cos\\left({\\theta}\\right)^{2} \\sin\\left({\\phi}\\right) \\sin\\left({\\theta}\\right)^{2} + \\cos\\left({\\phi}\\right) \\sin\\left({\\theta}\\right) \\right) \\frac{\\partial}{\\partial r } + \\left( -\\frac{r^{3} \\cos\\left({\\phi}\\right) \\cos\\left({\\theta}\\right) \\sin\\left({\\phi}\\right) \\sin\\left({\\theta}\\right)^{3} - \\cos\\left({\\phi}\\right) \\cos\\left({\\theta}\\right)}{r} \\right) \\frac{\\partial}{\\partial {\\theta} } + \\left( -\\frac{r \\sin\\left({\\theta}\\right) + \\sin\\left({\\phi}\\right)}{r \\sin\\left({\\theta}\\right)} \\right) \\frac{\\partial}{\\partial {\\phi} }\n",
       "\\end{math}"
      ],
      "text/plain": [
       "v = (r^3*cos(phi)*cos(theta)^2*sin(phi)*sin(theta)^2 + cos(phi)*sin(theta)) d/dr - (r^3*cos(phi)*cos(theta)*sin(phi)*sin(theta)^3 - cos(phi)*cos(theta))/r d/dtheta - (r*sin(theta) + sin(phi))/(r*sin(theta)) d/dphi"
      ]
     },
     "execution_count": 42,
     "metadata": {},
     "output_type": "execute_result"
    }
   ],
   "source": [
    "v.display(Y)"
   ]
  },
  {
   "cell_type": "markdown",
   "metadata": {},
   "source": [
    "Which is a shorthand for"
   ]
  },
  {
   "cell_type": "code",
   "execution_count": 43,
   "metadata": {},
   "outputs": [
    {
     "data": {
      "text/html": [
       "<html><script type=\"math/tex; mode=display\">\\newcommand{\\Bold}[1]{\\mathbf{#1}}v = \\left( r^{3} \\cos\\left({\\phi}\\right) \\cos\\left({\\theta}\\right)^{2} \\sin\\left({\\phi}\\right) \\sin\\left({\\theta}\\right)^{2} + \\cos\\left({\\phi}\\right) \\sin\\left({\\theta}\\right) \\right) \\frac{\\partial}{\\partial r } + \\left( -\\frac{r^{3} \\cos\\left({\\phi}\\right) \\cos\\left({\\theta}\\right) \\sin\\left({\\phi}\\right) \\sin\\left({\\theta}\\right)^{3} - \\cos\\left({\\phi}\\right) \\cos\\left({\\theta}\\right)}{r} \\right) \\frac{\\partial}{\\partial {\\theta} } + \\left( -\\frac{r \\sin\\left({\\theta}\\right) + \\sin\\left({\\phi}\\right)}{r \\sin\\left({\\theta}\\right)} \\right) \\frac{\\partial}{\\partial {\\phi} }</script></html>"
      ],
      "text/latex": [
       "\\begin{math}\n",
       "\\newcommand{\\Bold}[1]{\\mathbf{#1}}v = \\left( r^{3} \\cos\\left({\\phi}\\right) \\cos\\left({\\theta}\\right)^{2} \\sin\\left({\\phi}\\right) \\sin\\left({\\theta}\\right)^{2} + \\cos\\left({\\phi}\\right) \\sin\\left({\\theta}\\right) \\right) \\frac{\\partial}{\\partial r } + \\left( -\\frac{r^{3} \\cos\\left({\\phi}\\right) \\cos\\left({\\theta}\\right) \\sin\\left({\\phi}\\right) \\sin\\left({\\theta}\\right)^{3} - \\cos\\left({\\phi}\\right) \\cos\\left({\\theta}\\right)}{r} \\right) \\frac{\\partial}{\\partial {\\theta} } + \\left( -\\frac{r \\sin\\left({\\theta}\\right) + \\sin\\left({\\phi}\\right)}{r \\sin\\left({\\theta}\\right)} \\right) \\frac{\\partial}{\\partial {\\phi} }\n",
       "\\end{math}"
      ],
      "text/plain": [
       "v = (r^3*cos(phi)*cos(theta)^2*sin(phi)*sin(theta)^2 + cos(phi)*sin(theta)) d/dr - (r^3*cos(phi)*cos(theta)*sin(phi)*sin(theta)^3 - cos(phi)*cos(theta))/r d/dtheta - (r*sin(theta) + sin(phi))/(r*sin(theta)) d/dphi"
      ]
     },
     "execution_count": 43,
     "metadata": {},
     "output_type": "execute_result"
    }
   ],
   "source": [
    "v.display(Y.frame(), Y)"
   ]
  },
  {
   "cell_type": "markdown",
   "metadata": {},
   "source": [
    "### Components <a name=\"0-Components\"></a>\n",
    "Looping over the indicial components of the manifold, we can operate on the individual components of the vector field:"
   ]
  },
  {
   "cell_type": "code",
   "execution_count": 44,
   "metadata": {},
   "outputs": [
    {
     "data": {
      "text/html": [
       "<html><script type=\"math/tex; mode=display\">\\newcommand{\\Bold}[1]{\\mathbf{#1}}\\frac{\\partial}{\\partial x } = \\cos\\left({\\phi}\\right) \\sin\\left({\\theta}\\right) \\frac{\\partial}{\\partial r } + \\frac{\\cos\\left({\\phi}\\right) \\cos\\left({\\theta}\\right)}{r} \\frac{\\partial}{\\partial {\\theta} } -\\frac{\\sin\\left({\\phi}\\right)}{r \\sin\\left({\\theta}\\right)} \\frac{\\partial}{\\partial {\\phi} }</script></html>"
      ],
      "text/latex": [
       "\\begin{math}\n",
       "\\newcommand{\\Bold}[1]{\\mathbf{#1}}\\frac{\\partial}{\\partial x } = \\cos\\left({\\phi}\\right) \\sin\\left({\\theta}\\right) \\frac{\\partial}{\\partial r } + \\frac{\\cos\\left({\\phi}\\right) \\cos\\left({\\theta}\\right)}{r} \\frac{\\partial}{\\partial {\\theta} } -\\frac{\\sin\\left({\\phi}\\right)}{r \\sin\\left({\\theta}\\right)} \\frac{\\partial}{\\partial {\\phi} }\n",
       "\\end{math}"
      ],
      "text/plain": [
       "d/dx = cos(phi)*sin(theta) d/dr + cos(phi)*cos(theta)/r d/dtheta - sin(phi)/(r*sin(theta)) d/dphi"
      ]
     },
     "metadata": {},
     "output_type": "display_data"
    },
    {
     "data": {
      "text/html": [
       "<html><script type=\"math/tex; mode=display\">\\newcommand{\\Bold}[1]{\\mathbf{#1}}\\frac{\\partial}{\\partial y } = \\sin\\left({\\phi}\\right) \\sin\\left({\\theta}\\right) \\frac{\\partial}{\\partial r } + \\frac{\\cos\\left({\\theta}\\right) \\sin\\left({\\phi}\\right)}{r} \\frac{\\partial}{\\partial {\\theta} } + \\frac{\\cos\\left({\\phi}\\right)}{r \\sin\\left({\\theta}\\right)} \\frac{\\partial}{\\partial {\\phi} }</script></html>"
      ],
      "text/latex": [
       "\\begin{math}\n",
       "\\newcommand{\\Bold}[1]{\\mathbf{#1}}\\frac{\\partial}{\\partial y } = \\sin\\left({\\phi}\\right) \\sin\\left({\\theta}\\right) \\frac{\\partial}{\\partial r } + \\frac{\\cos\\left({\\theta}\\right) \\sin\\left({\\phi}\\right)}{r} \\frac{\\partial}{\\partial {\\theta} } + \\frac{\\cos\\left({\\phi}\\right)}{r \\sin\\left({\\theta}\\right)} \\frac{\\partial}{\\partial {\\phi} }\n",
       "\\end{math}"
      ],
      "text/plain": [
       "d/dy = sin(phi)*sin(theta) d/dr + cos(theta)*sin(phi)/r d/dtheta + cos(phi)/(r*sin(theta)) d/dphi"
      ]
     },
     "metadata": {},
     "output_type": "display_data"
    },
    {
     "data": {
      "text/html": [
       "<html><script type=\"math/tex; mode=display\">\\newcommand{\\Bold}[1]{\\mathbf{#1}}\\frac{\\partial}{\\partial z } = \\cos\\left({\\theta}\\right) \\frac{\\partial}{\\partial r } -\\frac{\\sin\\left({\\theta}\\right)}{r} \\frac{\\partial}{\\partial {\\theta} }</script></html>"
      ],
      "text/latex": [
       "\\begin{math}\n",
       "\\newcommand{\\Bold}[1]{\\mathbf{#1}}\\frac{\\partial}{\\partial z } = \\cos\\left({\\theta}\\right) \\frac{\\partial}{\\partial r } -\\frac{\\sin\\left({\\theta}\\right)}{r} \\frac{\\partial}{\\partial {\\theta} }\n",
       "\\end{math}"
      ],
      "text/plain": [
       "d/dz = cos(theta) d/dr - sin(theta)/r d/dtheta"
      ]
     },
     "metadata": {},
     "output_type": "display_data"
    }
   ],
   "source": [
    "for i in M.irange():\n",
    "    show(e_frame[i].display(Y))"
   ]
  },
  {
   "cell_type": "markdown",
   "metadata": {},
   "source": [
    "The components of a vector field w.r.t. the default frame can be obtained as a list:"
   ]
  },
  {
   "cell_type": "code",
   "execution_count": 45,
   "metadata": {},
   "outputs": [
    {
     "data": {
      "text/html": [
       "<html><script type=\"math/tex; mode=display\">\\newcommand{\\Bold}[1]{\\mathbf{#1}}\\left[y + 1, -x, x y z\\right]</script></html>"
      ],
      "text/latex": [
       "\\begin{math}\n",
       "\\newcommand{\\Bold}[1]{\\mathbf{#1}}\\left[y + 1, -x, x y z\\right]\n",
       "\\end{math}"
      ],
      "text/plain": [
       "[y + 1, -x, x*y*z]"
      ]
     },
     "execution_count": 45,
     "metadata": {},
     "output_type": "execute_result"
    }
   ],
   "source": [
    "v[:]"
   ]
  },
  {
   "cell_type": "markdown",
   "metadata": {},
   "source": [
    "Or, alternatively, displayed in pretty print:"
   ]
  },
  {
   "cell_type": "code",
   "execution_count": 46,
   "metadata": {},
   "outputs": [
    {
     "data": {
      "text/html": [
       "<html><script type=\"math/tex; mode=display\">\\newcommand{\\Bold}[1]{\\mathbf{#1}}\\begin{array}{lcl} v_{\\phantom{\\, x}}^{ \\, x } & = & y + 1 \\\\ v_{\\phantom{\\, y}}^{ \\, y } & = & -x \\\\ v_{\\phantom{\\, z}}^{ \\, z } & = & x y z \\end{array}</script></html>"
      ],
      "text/latex": [
       "\\begin{math}\n",
       "\\newcommand{\\Bold}[1]{\\mathbf{#1}}\\begin{array}{lcl} v_{\\phantom{\\, x}}^{ \\, x } & = & y + 1 \\\\ v_{\\phantom{\\, y}}^{ \\, y } & = & -x \\\\ v_{\\phantom{\\, z}}^{ \\, z } & = & x y z \\end{array}\n",
       "\\end{math}"
      ],
      "text/plain": [
       "v^x = y + 1 \n",
       "v^y = -x \n",
       "v^z = x*y*z "
      ]
     },
     "execution_count": 46,
     "metadata": {},
     "output_type": "execute_result"
    }
   ],
   "source": [
    "v.display_comp()"
   ]
  },
  {
   "cell_type": "markdown",
   "metadata": {},
   "source": [
    "Which also supports alternative frames:"
   ]
  },
  {
   "cell_type": "code",
   "execution_count": 47,
   "metadata": {},
   "outputs": [
    {
     "data": {
      "text/html": [
       "<html><script type=\"math/tex; mode=display\">\\newcommand{\\Bold}[1]{\\mathbf{#1}}\\begin{array}{lcl} v_{\\phantom{\\, r}}^{ \\, r } & = & \\frac{x y z^{2} + x}{\\sqrt{x^{2} + y^{2} + z^{2}}} \\\\ v_{\\phantom{\\, {\\theta}}}^{ \\, {\\theta} } & = & -\\frac{{\\left(x^{3} y + x y^{3} - x\\right)} \\sqrt{x^{2} + y^{2}} z}{x^{4} + 2 \\, x^{2} y^{2} + y^{4} + {\\left(x^{2} + y^{2}\\right)} z^{2}} \\\\ v_{\\phantom{\\, {\\phi}}}^{ \\, {\\phi} } & = & -\\frac{x^{2} + y^{2} + y}{x^{2} + y^{2}} \\end{array}</script></html>"
      ],
      "text/latex": [
       "\\begin{math}\n",
       "\\newcommand{\\Bold}[1]{\\mathbf{#1}}\\begin{array}{lcl} v_{\\phantom{\\, r}}^{ \\, r } & = & \\frac{x y z^{2} + x}{\\sqrt{x^{2} + y^{2} + z^{2}}} \\\\ v_{\\phantom{\\, {\\theta}}}^{ \\, {\\theta} } & = & -\\frac{{\\left(x^{3} y + x y^{3} - x\\right)} \\sqrt{x^{2} + y^{2}} z}{x^{4} + 2 \\, x^{2} y^{2} + y^{4} + {\\left(x^{2} + y^{2}\\right)} z^{2}} \\\\ v_{\\phantom{\\, {\\phi}}}^{ \\, {\\phi} } & = & -\\frac{x^{2} + y^{2} + y}{x^{2} + y^{2}} \\end{array}\n",
       "\\end{math}"
      ],
      "text/plain": [
       "v^r = (x*y*z^2 + x)/sqrt(x^2 + y^2 + z^2) \n",
       "v^theta = -(x^3*y + x*y^3 - x)*sqrt(x^2 + y^2)*z/(x^4 + 2*x^2*y^2 + y^4 + (x^2 + y^2)*z^2) \n",
       "v^phi = -(x^2 + y^2 + y)/(x^2 + y^2) "
      ]
     },
     "execution_count": 47,
     "metadata": {},
     "output_type": "execute_result"
    }
   ],
   "source": [
    "v.display_comp(Y.frame())"
   ]
  },
  {
   "cell_type": "markdown",
   "metadata": {},
   "source": [
    "We can also obtain a component list w.r.t. another frame, with the `.comp()` method:"
   ]
  },
  {
   "cell_type": "code",
   "execution_count": 48,
   "metadata": {},
   "outputs": [
    {
     "data": {
      "text/html": [
       "<html><script type=\"math/tex; mode=display\">\\newcommand{\\Bold}[1]{\\mathbf{#1}}\\left[\\frac{x y z^{2} + x}{\\sqrt{x^{2} + y^{2} + z^{2}}}, -\\frac{{\\left(x^{3} y + x y^{3} - x\\right)} \\sqrt{x^{2} + y^{2}} z}{x^{4} + 2 \\, x^{2} y^{2} + y^{4} + {\\left(x^{2} + y^{2}\\right)} z^{2}}, -\\frac{x^{2} + y^{2} + y}{x^{2} + y^{2}}\\right]</script></html>"
      ],
      "text/latex": [
       "\\begin{math}\n",
       "\\newcommand{\\Bold}[1]{\\mathbf{#1}}\\left[\\frac{x y z^{2} + x}{\\sqrt{x^{2} + y^{2} + z^{2}}}, -\\frac{{\\left(x^{3} y + x y^{3} - x\\right)} \\sqrt{x^{2} + y^{2}} z}{x^{4} + 2 \\, x^{2} y^{2} + y^{4} + {\\left(x^{2} + y^{2}\\right)} z^{2}}, -\\frac{x^{2} + y^{2} + y}{x^{2} + y^{2}}\\right]\n",
       "\\end{math}"
      ],
      "text/plain": [
       "[(x*y*z^2 + x)/sqrt(x^2 + y^2 + z^2),\n",
       " -(x^3*y + x*y^3 - x)*sqrt(x^2 + y^2)*z/(x^4 + 2*x^2*y^2 + y^4 + (x^2 + y^2)*z^2),\n",
       " -(x^2 + y^2 + y)/(x^2 + y^2)]"
      ]
     },
     "execution_count": 48,
     "metadata": {},
     "output_type": "execute_result"
    }
   ],
   "source": [
    "v.comp(Y.frame())[:]"
   ]
  },
  {
   "cell_type": "markdown",
   "metadata": {},
   "source": [
    "Which also exists in the shortcut:"
   ]
  },
  {
   "cell_type": "code",
   "execution_count": 49,
   "metadata": {},
   "outputs": [
    {
     "data": {
      "text/html": [
       "<html><script type=\"math/tex; mode=display\">\\newcommand{\\Bold}[1]{\\mathbf{#1}}\\left[\\frac{x y z^{2} + x}{\\sqrt{x^{2} + y^{2} + z^{2}}}, -\\frac{{\\left(x^{3} y + x y^{3} - x\\right)} \\sqrt{x^{2} + y^{2}} z}{x^{4} + 2 \\, x^{2} y^{2} + y^{4} + {\\left(x^{2} + y^{2}\\right)} z^{2}}, -\\frac{x^{2} + y^{2} + y}{x^{2} + y^{2}}\\right]</script></html>"
      ],
      "text/latex": [
       "\\begin{math}\n",
       "\\newcommand{\\Bold}[1]{\\mathbf{#1}}\\left[\\frac{x y z^{2} + x}{\\sqrt{x^{2} + y^{2} + z^{2}}}, -\\frac{{\\left(x^{3} y + x y^{3} - x\\right)} \\sqrt{x^{2} + y^{2}} z}{x^{4} + 2 \\, x^{2} y^{2} + y^{4} + {\\left(x^{2} + y^{2}\\right)} z^{2}}, -\\frac{x^{2} + y^{2} + y}{x^{2} + y^{2}}\\right]\n",
       "\\end{math}"
      ],
      "text/plain": [
       "[(x*y*z^2 + x)/sqrt(x^2 + y^2 + z^2),\n",
       " -(x^3*y + x*y^3 - x)*sqrt(x^2 + y^2)*z/(x^4 + 2*x^2*y^2 + y^4 + (x^2 + y^2)*z^2),\n",
       " -(x^2 + y^2 + y)/(x^2 + y^2)]"
      ]
     },
     "execution_count": 49,
     "metadata": {},
     "output_type": "execute_result"
    }
   ],
   "source": [
    "v[Y.frame(), :]"
   ]
  },
  {
   "cell_type": "markdown",
   "metadata": {},
   "source": [
    "We can change the coordinates to express these components in as usual with the second argument:"
   ]
  },
  {
   "cell_type": "code",
   "execution_count": 50,
   "metadata": {},
   "outputs": [
    {
     "data": {
      "text/html": [
       "<html><script type=\"math/tex; mode=display\">\\newcommand{\\Bold}[1]{\\mathbf{#1}}\\begin{array}{lcl} v_{\\phantom{\\, r}}^{ \\, r } & = & r^{3} \\cos\\left({\\phi}\\right) \\cos\\left({\\theta}\\right)^{2} \\sin\\left({\\phi}\\right) \\sin\\left({\\theta}\\right)^{2} + \\cos\\left({\\phi}\\right) \\sin\\left({\\theta}\\right) \\\\ v_{\\phantom{\\, {\\theta}}}^{ \\, {\\theta} } & = & -\\frac{r^{3} \\cos\\left({\\phi}\\right) \\cos\\left({\\theta}\\right) \\sin\\left({\\phi}\\right) \\sin\\left({\\theta}\\right)^{3} - \\cos\\left({\\phi}\\right) \\cos\\left({\\theta}\\right)}{r} \\\\ v_{\\phantom{\\, {\\phi}}}^{ \\, {\\phi} } & = & -\\frac{r \\sin\\left({\\theta}\\right) + \\sin\\left({\\phi}\\right)}{r \\sin\\left({\\theta}\\right)} \\end{array}</script></html>"
      ],
      "text/latex": [
       "\\begin{math}\n",
       "\\newcommand{\\Bold}[1]{\\mathbf{#1}}\\begin{array}{lcl} v_{\\phantom{\\, r}}^{ \\, r } & = & r^{3} \\cos\\left({\\phi}\\right) \\cos\\left({\\theta}\\right)^{2} \\sin\\left({\\phi}\\right) \\sin\\left({\\theta}\\right)^{2} + \\cos\\left({\\phi}\\right) \\sin\\left({\\theta}\\right) \\\\ v_{\\phantom{\\, {\\theta}}}^{ \\, {\\theta} } & = & -\\frac{r^{3} \\cos\\left({\\phi}\\right) \\cos\\left({\\theta}\\right) \\sin\\left({\\phi}\\right) \\sin\\left({\\theta}\\right)^{3} - \\cos\\left({\\phi}\\right) \\cos\\left({\\theta}\\right)}{r} \\\\ v_{\\phantom{\\, {\\phi}}}^{ \\, {\\phi} } & = & -\\frac{r \\sin\\left({\\theta}\\right) + \\sin\\left({\\phi}\\right)}{r \\sin\\left({\\theta}\\right)} \\end{array}\n",
       "\\end{math}"
      ],
      "text/plain": [
       "v^r = r^3*cos(phi)*cos(theta)^2*sin(phi)*sin(theta)^2 + cos(phi)*sin(theta) \n",
       "v^theta = -(r^3*cos(phi)*cos(theta)*sin(phi)*sin(theta)^3 - cos(phi)*cos(theta))/r \n",
       "v^phi = -(r*sin(theta) + sin(phi))/(r*sin(theta)) "
      ]
     },
     "execution_count": 50,
     "metadata": {},
     "output_type": "execute_result"
    }
   ],
   "source": [
    "v.display_comp(Y.frame(), Y)"
   ]
  },
  {
   "cell_type": "markdown",
   "metadata": {},
   "source": [
    "or with the shorthand:"
   ]
  },
  {
   "cell_type": "markdown",
   "metadata": {},
   "source": [
    "To obtain the components as scalar fields, we can use the double square bracket syntax:"
   ]
  },
  {
   "cell_type": "code",
   "execution_count": 51,
   "metadata": {
    "scrolled": true
   },
   "outputs": [
    {
     "data": {
      "text/html": [
       "<html><script type=\"math/tex; mode=display\">\\newcommand{\\Bold}[1]{\\mathbf{#1}}\\begin{array}{llcl} & U & \\longrightarrow & \\mathbb{R} \\\\ & \\left(x, y, z\\right) & \\longmapsto & y + 1 \\\\ & \\left(r, {\\theta}, {\\phi}\\right) & \\longmapsto & r \\sin\\left({\\phi}\\right) \\sin\\left({\\theta}\\right) + 1 \\end{array}</script></html>"
      ],
      "text/latex": [
       "\\begin{math}\n",
       "\\newcommand{\\Bold}[1]{\\mathbf{#1}}\\begin{array}{llcl} & U & \\longrightarrow & \\mathbb{R} \\\\ & \\left(x, y, z\\right) & \\longmapsto & y + 1 \\\\ & \\left(r, {\\theta}, {\\phi}\\right) & \\longmapsto & r \\sin\\left({\\phi}\\right) \\sin\\left({\\theta}\\right) + 1 \\end{array}\n",
       "\\end{math}"
      ],
      "text/plain": [
       "U --> R\n",
       "(x, y, z) |--> y + 1\n",
       "(r, theta, phi) |--> r*sin(phi)*sin(theta) + 1"
      ]
     },
     "execution_count": 51,
     "metadata": {},
     "output_type": "execute_result"
    }
   ],
   "source": [
    "v[[0]].display() # x component as scalar field"
   ]
  },
  {
   "cell_type": "markdown",
   "metadata": {},
   "source": [
    "Or find the symbolic expression represented on another chart:"
   ]
  },
  {
   "cell_type": "code",
   "execution_count": 52,
   "metadata": {},
   "outputs": [
    {
     "data": {
      "text/html": [
       "<html><script type=\"math/tex; mode=display\">\\newcommand{\\Bold}[1]{\\mathbf{#1}}r \\sin\\left({\\phi}\\right) \\sin\\left({\\theta}\\right) + 1</script></html>"
      ],
      "text/latex": [
       "\\begin{math}\n",
       "\\newcommand{\\Bold}[1]{\\mathbf{#1}}r \\sin\\left({\\phi}\\right) \\sin\\left({\\theta}\\right) + 1\n",
       "\\end{math}"
      ],
      "text/plain": [
       "r*sin(phi)*sin(theta) + 1"
      ]
     },
     "execution_count": 52,
     "metadata": {},
     "output_type": "execute_result"
    }
   ],
   "source": [
    "v[[0]].expr(Y)"
   ]
  },
  {
   "cell_type": "markdown",
   "metadata": {},
   "source": [
    "### Undefined components <a name=\"0-Undefined-components\"></a>\n",
    "We can even define unspecified functional components of vector fields:"
   ]
  },
  {
   "cell_type": "code",
   "execution_count": 53,
   "metadata": {},
   "outputs": [
    {
     "data": {
      "text/html": [
       "<html><script type=\"math/tex; mode=display\">\\newcommand{\\Bold}[1]{\\mathbf{#1}}u = u_{x}\\left(x, y, z\\right) \\frac{\\partial}{\\partial x } + u_{y}\\left(x, y, z\\right) \\frac{\\partial}{\\partial y } + u_{z}\\left(x, y, z\\right) \\frac{\\partial}{\\partial z }</script></html>"
      ],
      "text/latex": [
       "\\begin{math}\n",
       "\\newcommand{\\Bold}[1]{\\mathbf{#1}}u = u_{x}\\left(x, y, z\\right) \\frac{\\partial}{\\partial x } + u_{y}\\left(x, y, z\\right) \\frac{\\partial}{\\partial y } + u_{z}\\left(x, y, z\\right) \\frac{\\partial}{\\partial z }\n",
       "\\end{math}"
      ],
      "text/plain": [
       "u = u_x(x, y, z) d/dx + u_y(x, y, z) d/dy + u_z(x, y, z) d/dz"
      ]
     },
     "execution_count": 53,
     "metadata": {},
     "output_type": "execute_result"
    }
   ],
   "source": [
    "u = U.vector_field(name=\"u\")\n",
    "u[:] = [\n",
    "    function(\"u_x\")(x, y, z),\n",
    "    function(\"u_y\")(x, y, z),\n",
    "    function(\"u_z\")(x, y, z)\n",
    "]\n",
    "u.display()"
   ]
  },
  {
   "cell_type": "markdown",
   "metadata": {},
   "source": [
    "which still obeys the algebra:"
   ]
  },
  {
   "cell_type": "code",
   "execution_count": 54,
   "metadata": {},
   "outputs": [
    {
     "data": {
      "text/html": [
       "<html><script type=\"math/tex; mode=display\">\\newcommand{\\Bold}[1]{\\mathbf{#1}}s = \\left( y + u_{x}\\left(x, y, z\\right) + 1 \\right) \\frac{\\partial}{\\partial x } + \\left( -x + u_{y}\\left(x, y, z\\right) \\right) \\frac{\\partial}{\\partial y } + \\left( x y z + u_{z}\\left(x, y, z\\right) \\right) \\frac{\\partial}{\\partial z }</script></html>"
      ],
      "text/latex": [
       "\\begin{math}\n",
       "\\newcommand{\\Bold}[1]{\\mathbf{#1}}s = \\left( y + u_{x}\\left(x, y, z\\right) + 1 \\right) \\frac{\\partial}{\\partial x } + \\left( -x + u_{y}\\left(x, y, z\\right) \\right) \\frac{\\partial}{\\partial y } + \\left( x y z + u_{z}\\left(x, y, z\\right) \\right) \\frac{\\partial}{\\partial z }\n",
       "\\end{math}"
      ],
      "text/plain": [
       "s = (y + u_x(x, y, z) + 1) d/dx + (-x + u_y(x, y, z)) d/dy + (x*y*z + u_z(x, y, z)) d/dz"
      ]
     },
     "execution_count": 54,
     "metadata": {},
     "output_type": "execute_result"
    }
   ],
   "source": [
    "s = v + u\n",
    "s.set_name(\"s\")\n",
    "s.display()"
   ]
  },
  {
   "cell_type": "markdown",
   "metadata": {},
   "source": [
    "### Values at a point <a name=\"0-Values-at-a-point\"></a>\n",
    "The value of a vector field at some point $p \\in \\mathcal{M}$ is obtained with the `.at()` member function:"
   ]
  },
  {
   "cell_type": "code",
   "execution_count": 55,
   "metadata": {},
   "outputs": [
    {
     "data": {
      "text/html": [
       "<html><script type=\"math/tex; mode=display\">\\newcommand{\\Bold}[1]{\\mathbf{#1}}v = 3 \\frac{\\partial}{\\partial x } -\\frac{\\partial}{\\partial y } -2 \\frac{\\partial}{\\partial z }</script></html>"
      ],
      "text/latex": [
       "\\begin{math}\n",
       "\\newcommand{\\Bold}[1]{\\mathbf{#1}}v = 3 \\frac{\\partial}{\\partial x } -\\frac{\\partial}{\\partial y } -2 \\frac{\\partial}{\\partial z }\n",
       "\\end{math}"
      ],
      "text/plain": [
       "v = 3 d/dx - d/dy - 2 d/dz"
      ]
     },
     "execution_count": 55,
     "metadata": {},
     "output_type": "execute_result"
    }
   ],
   "source": [
    "vp = v.at(p)\n",
    "vp.display()"
   ]
  },
  {
   "cell_type": "markdown",
   "metadata": {},
   "source": [
    "Which has used the components of $p$ in `X_U`:"
   ]
  },
  {
   "cell_type": "code",
   "execution_count": 56,
   "metadata": {},
   "outputs": [
    {
     "data": {
      "text/html": [
       "<html><script type=\"math/tex; mode=display\">\\newcommand{\\Bold}[1]{\\mathbf{#1}}\\left(1, 2, -1\\right)</script></html>"
      ],
      "text/latex": [
       "\\begin{math}\n",
       "\\newcommand{\\Bold}[1]{\\mathbf{#1}}\\left(1, 2, -1\\right)\n",
       "\\end{math}"
      ],
      "text/plain": [
       "(1, 2, -1)"
      ]
     },
     "execution_count": 56,
     "metadata": {},
     "output_type": "execute_result"
    }
   ],
   "source": [
    "p.coord(X_U)"
   ]
  },
  {
   "cell_type": "markdown",
   "metadata": {},
   "source": [
    "To clarify ambiguities, it can be useful to set the name of the vector field:"
   ]
  },
  {
   "cell_type": "code",
   "execution_count": 57,
   "metadata": {},
   "outputs": [
    {
     "data": {
      "text/html": [
       "<html><script type=\"math/tex; mode=display\">\\newcommand{\\Bold}[1]{\\mathbf{#1}}v|_p = 3 \\frac{\\partial}{\\partial x } -\\frac{\\partial}{\\partial y } -2 \\frac{\\partial}{\\partial z }</script></html>"
      ],
      "text/latex": [
       "\\begin{math}\n",
       "\\newcommand{\\Bold}[1]{\\mathbf{#1}}v|_p = 3 \\frac{\\partial}{\\partial x } -\\frac{\\partial}{\\partial y } -2 \\frac{\\partial}{\\partial z }\n",
       "\\end{math}"
      ],
      "text/plain": [
       "v = 3 d/dx - d/dy - 2 d/dz"
      ]
     },
     "execution_count": 57,
     "metadata": {},
     "output_type": "execute_result"
    }
   ],
   "source": [
    "vp.set_name(latex_name=\"v|_p\")\n",
    "vp.display()"
   ]
  },
  {
   "cell_type": "markdown",
   "metadata": {},
   "source": [
    "By contrast, using the generic vector field:"
   ]
  },
  {
   "cell_type": "code",
   "execution_count": 58,
   "metadata": {},
   "outputs": [
    {
     "data": {
      "text/html": [
       "<html><script type=\"math/tex; mode=display\">\\newcommand{\\Bold}[1]{\\mathbf{#1}}u|_p = u_{x}\\left(1, 2, -1\\right) \\frac{\\partial}{\\partial x } + u_{y}\\left(1, 2, -1\\right) \\frac{\\partial}{\\partial y } + u_{z}\\left(1, 2, -1\\right) \\frac{\\partial}{\\partial z }</script></html>"
      ],
      "text/latex": [
       "\\begin{math}\n",
       "\\newcommand{\\Bold}[1]{\\mathbf{#1}}u|_p = u_{x}\\left(1, 2, -1\\right) \\frac{\\partial}{\\partial x } + u_{y}\\left(1, 2, -1\\right) \\frac{\\partial}{\\partial y } + u_{z}\\left(1, 2, -1\\right) \\frac{\\partial}{\\partial z }\n",
       "\\end{math}"
      ],
      "text/plain": [
       "u = u_x(1, 2, -1) d/dx + u_y(1, 2, -1) d/dy + u_z(1, 2, -1) d/dz"
      ]
     },
     "execution_count": 58,
     "metadata": {},
     "output_type": "execute_result"
    }
   ],
   "source": [
    "up = u.at(p)\n",
    "up.set_name(latex_name=\"u|_p\")\n",
    "\n",
    "up.display()"
   ]
  }
 ],
 "metadata": {
  "kernelspec": {
   "display_name": "SageMath 9.3.beta6",
   "language": "sage",
   "name": "sagemath"
  },
  "language_info": {
   "codemirror_mode": {
    "name": "ipython",
    "version": 3
   },
   "file_extension": ".py",
   "mimetype": "text/x-python",
   "name": "python",
   "nbconvert_exporter": "python",
   "pygments_lexer": "ipython3",
   "version": "3.8.5"
  }
 },
 "nbformat": 4,
 "nbformat_minor": 4
}
