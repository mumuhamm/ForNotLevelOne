{
 "cells": [
  {
   "cell_type": "code",
   "execution_count": null,
   "metadata": {},
   "outputs": [],
   "source": [
    "classifier = RandomForestClassifier(random_state=7)\n",
    "\n",
    "\n",
    "\n",
    "# The first step we need to perform is to \n",
    "# create a dictionary of all the parameters and their corresponding \n",
    "# set of values that you want to test for best performance. \n",
    "# The name of the dictionary items corresponds to the parameter name \n",
    "# and the value corresponds to the list of values for the parameter.\n",
    "# The parameter values that we want to try out \n",
    "# are passed in the list. In the below code we want to find \n",
    "# which values of the RF hyperparameters provides the highest accuracy\n",
    "\n",
    "grid_param = {\n",
    "     'criterion': ['gini','entropy'],\n",
    "    'n_estimators': [300, 500],\n",
    "    'bootstrap': [True, False],\n",
    "    'max_depth': [3,5],\n",
    "    'min_samples_leaf':[300,500],\n",
    "    'min_samples_split':[200,400],\n",
    "    'max_features':[3,4,5]\n",
    " }\n",
    "\n",
    "\n",
    "# Once the parameter dictionary is created, \n",
    "# the next step is to create an instance of the GridSearchCV class. \n",
    "# You need to pass values for the estimator parameter, \n",
    "# which basically is the algorithm that you want to execute. \n",
    "# The param_grid parameter takes the parameter dictionary that we \n",
    "# just created as parameter, the scoring parameter takes the performance metrics, \n",
    "# the cv parameter corresponds to number of folds, \n",
    "# which is 5 in our case, and finally the n_jobs parameter refers to the \n",
    "# number of CPU's that you want to use for execution. \n",
    "# A value of -1 for n_jobs parameter means that use all available computing power. \n",
    "# This can be handy if you have large number amount of data.\n",
    "\n",
    "gd_sr = GridSearchCV(estimator=classifier,\n",
    "                     param_grid=grid_param, #parameter dictionary\n",
    "                     scoring='accuracy', #performance metrics\n",
    "                     cv=3, #number of folds\n",
    "                     n_jobs=-1) #use all available computing power\n",
    "\n",
    "# Time required : 7h 50 minutes\n",
    "gd_sr.fit(X_train_val, np.ravel(Y_train_val))\n"
   ]
  }
 ],
 "metadata": {
  "kernelspec": {
   "display_name": "Python 3",
   "language": "python",
   "name": "python3"
  },
  "language_info": {
   "codemirror_mode": {
    "name": "ipython",
    "version": 3
   },
   "file_extension": ".py",
   "mimetype": "text/x-python",
   "name": "python",
   "nbconvert_exporter": "python",
   "pygments_lexer": "ipython3",
   "version": "3.9.7"
  }
 },
 "nbformat": 4,
 "nbformat_minor": 4
}
