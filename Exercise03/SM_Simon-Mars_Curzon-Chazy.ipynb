{
 "cells": [
  {
   "cell_type": "markdown",
   "metadata": {},
   "source": [
    "# Simon-Mars tensor in Curzon-Chazy spacetime\n",
    "\n",
    "This notebook demonstrates a few capabilities of SageMath in computations regarding Curzon-Chazy spacetime. It implements the computation of the Simon-Mars tensor of Curzon-Chazy spacetime used in the article [arXiv:1412.6542](http://arxiv.org/abs/1412.6542). The corresponding tools have been developed within the  [SageManifolds](https://sagemanifolds.obspm.fr) project (version 1.3, as included in SageMath 8.3).\n",
    "\n",
    "Click [here](https://raw.githubusercontent.com/sagemanifolds/SageManifolds/master/Worksheets/v1.3/SM_Simon-Mars_Curzon-Chazy.ipynb) to download the notebook file (ipynb format). To run it, you must start SageMath with the Jupyter notebook, via the command `sage -n jupyter`"
   ]
  },
  {
   "cell_type": "markdown",
   "metadata": {},
   "source": [
    "*NB:* a version of SageMath at least equal to 8.2 is required to run this notebook:"
   ]
  },
  {
   "cell_type": "code",
   "execution_count": 1,
   "metadata": {},
   "outputs": [
    {
     "data": {
      "text/plain": [
       "'SageMath version 8.3, Release Date: 2018-08-03'"
      ]
     },
     "execution_count": 1,
     "metadata": {},
     "output_type": "execute_result"
    }
   ],
   "source": [
    "version()"
   ]
  },
  {
   "cell_type": "markdown",
   "metadata": {},
   "source": [
    "First we set up the notebook to display mathematical objects using LaTeX rendering:"
   ]
  },
  {
   "cell_type": "code",
   "execution_count": 2,
   "metadata": {},
   "outputs": [],
   "source": [
    "%display latex"
   ]
  },
  {
   "cell_type": "markdown",
   "metadata": {},
   "source": [
    "## Spacetime manifold\n",
    "\n",
    "We declare the Curzon-Chazy spacetime as a 4-dimensional Lorentzian manifold:"
   ]
  },
  {
   "cell_type": "code",
   "execution_count": 3,
   "metadata": {},
   "outputs": [
    {
     "name": "stdout",
     "output_type": "stream",
     "text": [
      "4-dimensional Lorentzian manifold M\n"
     ]
    }
   ],
   "source": [
    "M = Manifold(4, 'M', latex_name=r'\\mathcal{M}', structure='Lorentzian')\n",
    "print(M)"
   ]
  },
  {
   "cell_type": "markdown",
   "metadata": {},
   "source": [
    "<p>We introduce the coordinates $(t,r,y,\\phi)$ with $y$ related to the standard <strong>Weyl-Papapetrou coordinates</strong> $(t,r,\\theta,\\phi)$ by $y=\\cos\\theta$:</p>"
   ]
  },
  {
   "cell_type": "code",
   "execution_count": 4,
   "metadata": {},
   "outputs": [
    {
     "name": "stdout",
     "output_type": "stream",
     "text": [
      "Chart (M, (t, r, y, ph))\n"
     ]
    },
    {
     "data": {
      "text/html": [
       "<html><script type=\"math/tex; mode=display\">\\newcommand{\\Bold}[1]{\\mathbf{#1}}\\left(\\mathcal{M},(t, r, y, {\\phi})\\right)</script></html>"
      ],
      "text/plain": [
       "Chart (M, (t, r, y, ph))"
      ]
     },
     "execution_count": 4,
     "metadata": {},
     "output_type": "execute_result"
    }
   ],
   "source": [
    "X.<t,r,y,ph> = M.chart(r't r:(0,+oo) y:(-1,1) ph:(0,2*pi):\\phi') \n",
    "print(X) ; X"
   ]
  },
  {
   "cell_type": "markdown",
   "metadata": {},
   "source": [
    "<h2>Metric tensor</h2>\n",
    "<p>We declare the only parameter of the Curzon-Chazy spacetime, which is the mass $m$ as a symbolic variable:</p>"
   ]
  },
  {
   "cell_type": "code",
   "execution_count": 5,
   "metadata": {},
   "outputs": [
    {
     "data": {
      "text/html": [
       "<html><script type=\"math/tex; mode=display\">\\newcommand{\\Bold}[1]{\\mathbf{#1}}m</script></html>"
      ],
      "text/plain": [
       "m"
      ]
     },
     "execution_count": 5,
     "metadata": {},
     "output_type": "execute_result"
    }
   ],
   "source": [
    "var('m')"
   ]
  },
  {
   "cell_type": "markdown",
   "metadata": {},
   "source": [
    "<p>Without any loss of generality, we set $m$ to some specific value (this amounts simply to fixing some length scale):</p>"
   ]
  },
  {
   "cell_type": "code",
   "execution_count": 6,
   "metadata": {},
   "outputs": [],
   "source": [
    "m = 12"
   ]
  },
  {
   "cell_type": "markdown",
   "metadata": {},
   "source": [
    "Let us set the components of the spacetime metric in the coordinate frame associated with Weyl-Papapetrou coordinates:"
   ]
  },
  {
   "cell_type": "code",
   "execution_count": 7,
   "metadata": {},
   "outputs": [],
   "source": [
    "g = M.metric()\n",
    "g[0,0] = - exp(-2*m/r)\n",
    "g[1,1] = exp(2*m/r-m^2*(1-y^2)/r^2)\n",
    "g[2,2] = exp(2*m/r-m^2*(1-y^2)/r^2)*r^2/(1-y^2)\n",
    "g[3,3] = exp(2*m/r)*r^2*(1-y^2)"
   ]
  },
  {
   "cell_type": "code",
   "execution_count": 8,
   "metadata": {},
   "outputs": [
    {
     "data": {
      "text/html": [
       "<html><script type=\"math/tex; mode=display\">\\newcommand{\\Bold}[1]{\\mathbf{#1}}\\left(\\begin{array}{rrrr}\n",
       "-e^{\\left(-\\frac{24}{r}\\right)} & 0 & 0 & 0 \\\\\n",
       "0 & e^{\\left(\\frac{144 \\, {\\left(y^{2} - 1\\right)}}{r^{2}} + \\frac{24}{r}\\right)} & 0 & 0 \\\\\n",
       "0 & 0 & -\\frac{r^{2} e^{\\left(\\frac{144 \\, {\\left(y^{2} - 1\\right)}}{r^{2}} + \\frac{24}{r}\\right)}}{y^{2} - 1} & 0 \\\\\n",
       "0 & 0 & 0 & -{\\left(y^{2} - 1\\right)} r^{2} e^{\\frac{24}{r}}\n",
       "\\end{array}\\right)</script></html>"
      ],
      "text/plain": [
       "[                                 -e^(-24/r)                                           0                                           0                                           0]\n",
       "[                                          0                e^(144*(y^2 - 1)/r^2 + 24/r)                                           0                                           0]\n",
       "[                                          0                                           0 -r^2*e^(144*(y^2 - 1)/r^2 + 24/r)/(y^2 - 1)                                           0]\n",
       "[                                          0                                           0                                           0                     -(y^2 - 1)*r^2*e^(24/r)]"
      ]
     },
     "execution_count": 8,
     "metadata": {},
     "output_type": "execute_result"
    }
   ],
   "source": [
    "g[:]"
   ]
  },
  {
   "cell_type": "markdown",
   "metadata": {},
   "source": [
    "<p>The Levi-Civita connection $\\nabla$ associated with $g$:</p>"
   ]
  },
  {
   "cell_type": "code",
   "execution_count": 9,
   "metadata": {},
   "outputs": [
    {
     "name": "stdout",
     "output_type": "stream",
     "text": [
      "Levi-Civita connection nabla_g associated with the Lorentzian metric g on the 4-dimensional Lorentzian manifold M\n"
     ]
    }
   ],
   "source": [
    "nab = g.connection() ; print(nab)"
   ]
  },
  {
   "cell_type": "markdown",
   "metadata": {},
   "source": [
    "<p>As a check, we verify that the covariant derivative of $g$ with respect to $\\nabla$ vanishes identically:</p>"
   ]
  },
  {
   "cell_type": "code",
   "execution_count": 10,
   "metadata": {},
   "outputs": [
    {
     "data": {
      "text/html": [
       "<html><script type=\"math/tex; mode=display\">\\newcommand{\\Bold}[1]{\\mathbf{#1}}\\nabla_{g} g = 0</script></html>"
      ],
      "text/plain": [
       "nabla_g(g) = 0"
      ]
     },
     "execution_count": 10,
     "metadata": {},
     "output_type": "execute_result"
    }
   ],
   "source": [
    "nab(g).display()"
   ]
  },
  {
   "cell_type": "markdown",
   "metadata": {},
   "source": [
    "<h2>Killing vector</h2>\n",
    "<p>The default vector frame on the spacetime manifold is the coordinate basis associated with Weyl-Papapetrou coordinates:</p>"
   ]
  },
  {
   "cell_type": "code",
   "execution_count": 11,
   "metadata": {},
   "outputs": [
    {
     "data": {
      "text/html": [
       "<html><script type=\"math/tex; mode=display\">\\newcommand{\\Bold}[1]{\\mathbf{#1}}\\mathrm{True}</script></html>"
      ],
      "text/plain": [
       "True"
      ]
     },
     "execution_count": 11,
     "metadata": {},
     "output_type": "execute_result"
    }
   ],
   "source": [
    "M.default_frame() is X.frame()"
   ]
  },
  {
   "cell_type": "code",
   "execution_count": 12,
   "metadata": {},
   "outputs": [
    {
     "data": {
      "text/html": [
       "<html><script type=\"math/tex; mode=display\">\\newcommand{\\Bold}[1]{\\mathbf{#1}}\\left(\\mathcal{M}, \\left(\\frac{\\partial}{\\partial t },\\frac{\\partial}{\\partial r },\\frac{\\partial}{\\partial y },\\frac{\\partial}{\\partial {\\phi} }\\right)\\right)</script></html>"
      ],
      "text/plain": [
       "Coordinate frame (M, (d/dt,d/dr,d/dy,d/dph))"
      ]
     },
     "execution_count": 12,
     "metadata": {},
     "output_type": "execute_result"
    }
   ],
   "source": [
    "X.frame()"
   ]
  },
  {
   "cell_type": "markdown",
   "metadata": {},
   "source": [
    "<p>Let us consider the first vector field of this frame:</p>"
   ]
  },
  {
   "cell_type": "code",
   "execution_count": 13,
   "metadata": {},
   "outputs": [
    {
     "data": {
      "text/html": [
       "<html><script type=\"math/tex; mode=display\">\\newcommand{\\Bold}[1]{\\mathbf{#1}}\\frac{\\partial}{\\partial t }</script></html>"
      ],
      "text/plain": [
       "Vector field d/dt on the 4-dimensional Lorentzian manifold M"
      ]
     },
     "execution_count": 13,
     "metadata": {},
     "output_type": "execute_result"
    }
   ],
   "source": [
    "xi = X.frame()[0] ; xi"
   ]
  },
  {
   "cell_type": "code",
   "execution_count": 14,
   "metadata": {},
   "outputs": [
    {
     "name": "stdout",
     "output_type": "stream",
     "text": [
      "Vector field d/dt on the 4-dimensional Lorentzian manifold M\n"
     ]
    }
   ],
   "source": [
    "print(xi)"
   ]
  },
  {
   "cell_type": "markdown",
   "metadata": {},
   "source": [
    "<p>The 1-form associated to it by metric duality is</p>"
   ]
  },
  {
   "cell_type": "code",
   "execution_count": 15,
   "metadata": {},
   "outputs": [
    {
     "name": "stdout",
     "output_type": "stream",
     "text": [
      "1-form xi_form on the 4-dimensional Lorentzian manifold M\n"
     ]
    },
    {
     "data": {
      "text/html": [
       "<html><script type=\"math/tex; mode=display\">\\newcommand{\\Bold}[1]{\\mathbf{#1}}\\underline{\\xi} = -e^{\\left(-\\frac{24}{r}\\right)} \\mathrm{d} t</script></html>"
      ],
      "text/plain": [
       "xi_form = -e^(-24/r) dt"
      ]
     },
     "execution_count": 15,
     "metadata": {},
     "output_type": "execute_result"
    }
   ],
   "source": [
    "xi_form = xi.down(g)\n",
    "xi_form.set_name('xi_form', r'\\underline{\\xi}')\n",
    "print(xi_form) ; xi_form.display()"
   ]
  },
  {
   "cell_type": "markdown",
   "metadata": {},
   "source": [
    "<p>Its covariant derivative is</p>"
   ]
  },
  {
   "cell_type": "code",
   "execution_count": 16,
   "metadata": {},
   "outputs": [
    {
     "name": "stdout",
     "output_type": "stream",
     "text": [
      "Tensor field nabla_g(xi_form) of type (0,2) on the 4-dimensional Lorentzian manifold M\n"
     ]
    },
    {
     "data": {
      "text/html": [
       "<html><script type=\"math/tex; mode=display\">\\newcommand{\\Bold}[1]{\\mathbf{#1}}\\nabla_{g} \\underline{\\xi} = -\\frac{12 \\, e^{\\left(-\\frac{24}{r}\\right)}}{r^{2}} \\mathrm{d} t\\otimes \\mathrm{d} r + \\frac{12 \\, e^{\\left(-\\frac{24}{r}\\right)}}{r^{2}} \\mathrm{d} r\\otimes \\mathrm{d} t</script></html>"
      ],
      "text/plain": [
       "nabla_g(xi_form) = -12*e^(-24/r)/r^2 dt*dr + 12*e^(-24/r)/r^2 dr*dt"
      ]
     },
     "execution_count": 16,
     "metadata": {},
     "output_type": "execute_result"
    }
   ],
   "source": [
    "nab_xi = nab(xi_form)\n",
    "print(nab_xi) ; nab_xi.display()"
   ]
  },
  {
   "cell_type": "markdown",
   "metadata": {},
   "source": [
    "<p>Let us check that the Killing equation is satisfied:</p>"
   ]
  },
  {
   "cell_type": "code",
   "execution_count": 17,
   "metadata": {},
   "outputs": [
    {
     "data": {
      "text/html": [
       "<html><script type=\"math/tex; mode=display\">\\newcommand{\\Bold}[1]{\\mathbf{#1}}0</script></html>"
      ],
      "text/plain": [
       "0"
      ]
     },
     "execution_count": 17,
     "metadata": {},
     "output_type": "execute_result"
    }
   ],
   "source": [
    "nab_xi.symmetrize().display()"
   ]
  },
  {
   "cell_type": "markdown",
   "metadata": {},
   "source": [
    "<p>Equivalently, we check that the Lie derivative of the metric along $\\xi$ vanishes:</p>"
   ]
  },
  {
   "cell_type": "code",
   "execution_count": 18,
   "metadata": {},
   "outputs": [
    {
     "data": {
      "text/html": [
       "<html><script type=\"math/tex; mode=display\">\\newcommand{\\Bold}[1]{\\mathbf{#1}}0</script></html>"
      ],
      "text/plain": [
       "0"
      ]
     },
     "execution_count": 18,
     "metadata": {},
     "output_type": "execute_result"
    }
   ],
   "source": [
    "g.lie_der(xi).display()"
   ]
  },
  {
   "cell_type": "markdown",
   "metadata": {},
   "source": [
    "<p>Thank to Killing equation, $\\nabla_g \\underline{\\xi}$ is antisymmetric. We may therefore define a 2-form by $F := - \\nabla_g \\xi$. Here we enforce the antisymmetry by calling the function <span style=\"font-family: courier new,courier;\">antisymmetrize()</span> on <span style=\"font-family: courier new,courier;\">nab_xi</span>:</p>"
   ]
  },
  {
   "cell_type": "code",
   "execution_count": 19,
   "metadata": {},
   "outputs": [
    {
     "name": "stdout",
     "output_type": "stream",
     "text": [
      "2-form F on the 4-dimensional Lorentzian manifold M\n"
     ]
    },
    {
     "data": {
      "text/html": [
       "<html><script type=\"math/tex; mode=display\">\\newcommand{\\Bold}[1]{\\mathbf{#1}}F = \\frac{12 \\, e^{\\left(-\\frac{24}{r}\\right)}}{r^{2}} \\mathrm{d} t\\wedge \\mathrm{d} r</script></html>"
      ],
      "text/plain": [
       "F = 12*e^(-24/r)/r^2 dt/\\dr"
      ]
     },
     "execution_count": 19,
     "metadata": {},
     "output_type": "execute_result"
    }
   ],
   "source": [
    "F = - nab_xi.antisymmetrize()\n",
    "F.set_name('F')\n",
    "print(F)\n",
    "F.display()"
   ]
  },
  {
   "cell_type": "markdown",
   "metadata": {},
   "source": [
    "<p>We check that</p>"
   ]
  },
  {
   "cell_type": "code",
   "execution_count": 20,
   "metadata": {},
   "outputs": [
    {
     "data": {
      "text/html": [
       "<html><script type=\"math/tex; mode=display\">\\newcommand{\\Bold}[1]{\\mathbf{#1}}\\mathrm{True}</script></html>"
      ],
      "text/plain": [
       "True"
      ]
     },
     "execution_count": 20,
     "metadata": {},
     "output_type": "execute_result"
    }
   ],
   "source": [
    "F == - nab_xi"
   ]
  },
  {
   "cell_type": "markdown",
   "metadata": {},
   "source": [
    "<p>The squared norm of the Killing vector is</p>"
   ]
  },
  {
   "cell_type": "code",
   "execution_count": 21,
   "metadata": {},
   "outputs": [
    {
     "name": "stdout",
     "output_type": "stream",
     "text": [
      "Scalar field lambda on the 4-dimensional Lorentzian manifold M\n"
     ]
    },
    {
     "data": {
      "text/html": [
       "<html><script type=\"math/tex; mode=display\">\\newcommand{\\Bold}[1]{\\mathbf{#1}}\\begin{array}{llcl} \\lambda:& \\mathcal{M} & \\longrightarrow & \\mathbb{R} \\\\ & \\left(t, r, y, {\\phi}\\right) & \\longmapsto & e^{\\left(-\\frac{24}{r}\\right)} \\end{array}</script></html>"
      ],
      "text/plain": [
       "lambda: M --> R\n",
       "   (t, r, y, ph) |--> e^(-24/r)"
      ]
     },
     "execution_count": 21,
     "metadata": {},
     "output_type": "execute_result"
    }
   ],
   "source": [
    "lamb = - g(xi,xi)\n",
    "lamb.set_name('lambda', r'\\lambda')\n",
    "print(lamb)\n",
    "lamb.display()"
   ]
  },
  {
   "cell_type": "markdown",
   "metadata": {},
   "source": [
    "<p>Instead of invoking $g(\\xi,\\xi)$, we could have evaluated $\\lambda$ by means of the 1-form $\\underline{\\xi}$ acting on the vector field $\\xi$:</p>"
   ]
  },
  {
   "cell_type": "code",
   "execution_count": 22,
   "metadata": {},
   "outputs": [
    {
     "data": {
      "text/html": [
       "<html><script type=\"math/tex; mode=display\">\\newcommand{\\Bold}[1]{\\mathbf{#1}}\\mathrm{True}</script></html>"
      ],
      "text/plain": [
       "True"
      ]
     },
     "execution_count": 22,
     "metadata": {},
     "output_type": "execute_result"
    }
   ],
   "source": [
    "lamb == - xi_form(xi)"
   ]
  },
  {
   "cell_type": "markdown",
   "metadata": {},
   "source": [
    "<p>or we could have used index notation in the form $\\lambda = - \\xi_a \\xi^a$:</p>"
   ]
  },
  {
   "cell_type": "code",
   "execution_count": 23,
   "metadata": {},
   "outputs": [
    {
     "data": {
      "text/html": [
       "<html><script type=\"math/tex; mode=display\">\\newcommand{\\Bold}[1]{\\mathbf{#1}}\\mathrm{True}</script></html>"
      ],
      "text/plain": [
       "True"
      ]
     },
     "execution_count": 23,
     "metadata": {},
     "output_type": "execute_result"
    }
   ],
   "source": [
    "lamb == - ( xi_form['_a']*xi['^a'] )"
   ]
  },
  {
   "cell_type": "markdown",
   "metadata": {},
   "source": [
    "<h2>Curvature</h2>\n",
    "<p>The Riemann curvature tensor associated with $g$ is</p>"
   ]
  },
  {
   "cell_type": "code",
   "execution_count": 24,
   "metadata": {},
   "outputs": [
    {
     "name": "stdout",
     "output_type": "stream",
     "text": [
      "Tensor field Riem(g) of type (1,3) on the 4-dimensional Lorentzian manifold M\n"
     ]
    }
   ],
   "source": [
    "Riem = g.riemann()\n",
    "print(Riem)"
   ]
  },
  {
   "cell_type": "markdown",
   "metadata": {},
   "source": [
    "<p>The component $R^0_{\\ \\, 101} = R^t_{\\ \\, rtr}$ is</p>"
   ]
  },
  {
   "cell_type": "code",
   "execution_count": 25,
   "metadata": {},
   "outputs": [
    {
     "data": {
      "text/html": [
       "<html><script type=\"math/tex; mode=display\">\\newcommand{\\Bold}[1]{\\mathbf{#1}}\\frac{24 \\, {\\left(r^{2} - 72 \\, y^{2} - 12 \\, r + 72\\right)}}{r^{5}}</script></html>"
      ],
      "text/plain": [
       "24*(r^2 - 72*y^2 - 12*r + 72)/r^5"
      ]
     },
     "execution_count": 25,
     "metadata": {},
     "output_type": "execute_result"
    }
   ],
   "source": [
    "Riem[0,1,0,1]"
   ]
  },
  {
   "cell_type": "markdown",
   "metadata": {},
   "source": [
    "<p>while the component $R^2_{\\ \\, 323} = R^y_{\\ \\, \\phi y \\phi}$ is</p>"
   ]
  },
  {
   "cell_type": "code",
   "execution_count": 26,
   "metadata": {},
   "outputs": [
    {
     "data": {
      "text/html": [
       "<html><script type=\"math/tex; mode=display\">\\newcommand{\\Bold}[1]{\\mathbf{#1}}\\frac{24 \\, {\\left(72 \\, y^{4} e^{\\left(\\frac{144}{r^{2}}\\right)} - {\\left(r^{2} - 12 \\, r + 144\\right)} y^{2} e^{\\left(\\frac{144}{r^{2}}\\right)} + {\\left(r^{2} - 12 \\, r + 72\\right)} e^{\\left(\\frac{144}{r^{2}}\\right)}\\right)} e^{\\left(-\\frac{144 \\, y^{2}}{r^{2}}\\right)}}{r^{3}}</script></html>"
      ],
      "text/plain": [
       "24*(72*y^4*e^(144/r^2) - (r^2 - 12*r + 144)*y^2*e^(144/r^2) + (r^2 - 12*r + 72)*e^(144/r^2))*e^(-144*y^2/r^2)/r^3"
      ]
     },
     "execution_count": 26,
     "metadata": {},
     "output_type": "execute_result"
    }
   ],
   "source": [
    "Riem[2,3,2,3]"
   ]
  },
  {
   "cell_type": "markdown",
   "metadata": {},
   "source": [
    "<p>All the non-vanishing components of the Riemann tensor, taking into account the antisymmetry on the last two indices:</p>"
   ]
  },
  {
   "cell_type": "code",
   "execution_count": 27,
   "metadata": {},
   "outputs": [
    {
     "data": {
      "text/html": [
       "<html><script type=\"math/tex; mode=display\">\\newcommand{\\Bold}[1]{\\mathbf{#1}}\\begin{array}{lcl} \\mathrm{Riem}\\left(g\\right)_{ \\phantom{\\, t} \\, r \\, t \\, r }^{ \\, t \\phantom{\\, r} \\phantom{\\, t} \\phantom{\\, r} } & = & \\frac{24 \\, {\\left(r^{2} - 72 \\, y^{2} - 12 \\, r + 72\\right)}}{r^{5}} \\\\ \\mathrm{Riem}\\left(g\\right)_{ \\phantom{\\, t} \\, r \\, t \\, y }^{ \\, t \\phantom{\\, r} \\phantom{\\, t} \\phantom{\\, y} } & = & \\frac{1728 \\, y}{r^{4}} \\\\ \\mathrm{Riem}\\left(g\\right)_{ \\phantom{\\, t} \\, y \\, t \\, r }^{ \\, t \\phantom{\\, y} \\phantom{\\, t} \\phantom{\\, r} } & = & \\frac{1728 \\, y}{r^{4}} \\\\ \\mathrm{Riem}\\left(g\\right)_{ \\phantom{\\, t} \\, y \\, t \\, y }^{ \\, t \\phantom{\\, y} \\phantom{\\, t} \\phantom{\\, y} } & = & \\frac{12 \\, {\\left(r^{2} - 144 \\, y^{2} - 12 \\, r + 144\\right)}}{r^{3} y^{2} - r^{3}} \\\\ \\mathrm{Riem}\\left(g\\right)_{ \\phantom{\\, t} \\, {\\phi} \\, t \\, {\\phi} }^{ \\, t \\phantom{\\, {\\phi}} \\phantom{\\, t} \\phantom{\\, {\\phi}} } & = & \\frac{12 \\, {\\left({\\left(r - 12\\right)} y^{2} e^{\\left(\\frac{144}{r^{2}}\\right)} - {\\left(r - 12\\right)} e^{\\left(\\frac{144}{r^{2}}\\right)}\\right)} e^{\\left(-\\frac{144 \\, y^{2}}{r^{2}}\\right)}}{r^{2}} \\\\ \\mathrm{Riem}\\left(g\\right)_{ \\phantom{\\, r} \\, t \\, t \\, r }^{ \\, r \\phantom{\\, t} \\phantom{\\, t} \\phantom{\\, r} } & = & -\\frac{24 \\, {\\left(72 \\, y^{2} e^{\\left(\\frac{144}{r^{2}}\\right)} - {\\left(r^{2} - 12 \\, r + 72\\right)} e^{\\left(\\frac{144}{r^{2}}\\right)}\\right)} e^{\\left(-\\frac{144 \\, y^{2}}{r^{2}} - \\frac{48}{r}\\right)}}{r^{5}} \\\\ \\mathrm{Riem}\\left(g\\right)_{ \\phantom{\\, r} \\, t \\, t \\, y }^{ \\, r \\phantom{\\, t} \\phantom{\\, t} \\phantom{\\, y} } & = & \\frac{1728 \\, y e^{\\left(-\\frac{144 \\, y^{2}}{r^{2}} - \\frac{48}{r} + \\frac{144}{r^{2}}\\right)}}{r^{4}} \\\\ \\mathrm{Riem}\\left(g\\right)_{ \\phantom{\\, r} \\, y \\, r \\, y }^{ \\, r \\phantom{\\, y} \\phantom{\\, r} \\phantom{\\, y} } & = & \\frac{12 \\, {\\left(r - 12\\right)}}{r^{2} y^{2} - r^{2}} \\\\ \\mathrm{Riem}\\left(g\\right)_{ \\phantom{\\, r} \\, {\\phi} \\, r \\, {\\phi} }^{ \\, r \\phantom{\\, {\\phi}} \\phantom{\\, r} \\phantom{\\, {\\phi}} } & = & -\\frac{12 \\, {\\left(144 \\, y^{4} e^{\\left(\\frac{144}{r^{2}}\\right)} - {\\left(r^{2} - 12 \\, r + 288\\right)} y^{2} e^{\\left(\\frac{144}{r^{2}}\\right)} + {\\left(r^{2} - 12 \\, r + 144\\right)} e^{\\left(\\frac{144}{r^{2}}\\right)}\\right)} e^{\\left(-\\frac{144 \\, y^{2}}{r^{2}}\\right)}}{r^{3}} \\\\ \\mathrm{Riem}\\left(g\\right)_{ \\phantom{\\, r} \\, {\\phi} \\, y \\, {\\phi} }^{ \\, r \\phantom{\\, {\\phi}} \\phantom{\\, y} \\phantom{\\, {\\phi}} } & = & \\frac{1728 \\, {\\left(y^{3} e^{\\left(\\frac{144}{r^{2}}\\right)} - y e^{\\left(\\frac{144}{r^{2}}\\right)}\\right)} e^{\\left(-\\frac{144 \\, y^{2}}{r^{2}}\\right)}}{r^{2}} \\\\ \\mathrm{Riem}\\left(g\\right)_{ \\phantom{\\, y} \\, t \\, t \\, r }^{ \\, y \\phantom{\\, t} \\phantom{\\, t} \\phantom{\\, r} } & = & -\\frac{1728 \\, {\\left(y^{3} e^{\\left(\\frac{144}{r^{2}}\\right)} - y e^{\\left(\\frac{144}{r^{2}}\\right)}\\right)} e^{\\left(-\\frac{144 \\, y^{2}}{r^{2}} - \\frac{48}{r}\\right)}}{r^{6}} \\\\ \\mathrm{Riem}\\left(g\\right)_{ \\phantom{\\, y} \\, t \\, t \\, y }^{ \\, y \\phantom{\\, t} \\phantom{\\, t} \\phantom{\\, y} } & = & \\frac{12 \\, {\\left(144 \\, y^{2} e^{\\left(\\frac{144}{r^{2}}\\right)} - {\\left(r^{2} - 12 \\, r + 144\\right)} e^{\\left(\\frac{144}{r^{2}}\\right)}\\right)} e^{\\left(-\\frac{144 \\, y^{2}}{r^{2}} - \\frac{48}{r}\\right)}}{r^{5}} \\\\ \\mathrm{Riem}\\left(g\\right)_{ \\phantom{\\, y} \\, r \\, r \\, y }^{ \\, y \\phantom{\\, r} \\phantom{\\, r} \\phantom{\\, y} } & = & \\frac{12 \\, {\\left(r - 12\\right)}}{r^{4}} \\\\ \\mathrm{Riem}\\left(g\\right)_{ \\phantom{\\, y} \\, {\\phi} \\, r \\, {\\phi} }^{ \\, y \\phantom{\\, {\\phi}} \\phantom{\\, r} \\phantom{\\, {\\phi}} } & = & -\\frac{1728 \\, {\\left(y^{5} e^{\\left(\\frac{144}{r^{2}}\\right)} - 2 \\, y^{3} e^{\\left(\\frac{144}{r^{2}}\\right)} + y e^{\\left(\\frac{144}{r^{2}}\\right)}\\right)} e^{\\left(-\\frac{144 \\, y^{2}}{r^{2}}\\right)}}{r^{4}} \\\\ \\mathrm{Riem}\\left(g\\right)_{ \\phantom{\\, y} \\, {\\phi} \\, y \\, {\\phi} }^{ \\, y \\phantom{\\, {\\phi}} \\phantom{\\, y} \\phantom{\\, {\\phi}} } & = & \\frac{24 \\, {\\left(72 \\, y^{4} e^{\\left(\\frac{144}{r^{2}}\\right)} - {\\left(r^{2} - 12 \\, r + 144\\right)} y^{2} e^{\\left(\\frac{144}{r^{2}}\\right)} + {\\left(r^{2} - 12 \\, r + 72\\right)} e^{\\left(\\frac{144}{r^{2}}\\right)}\\right)} e^{\\left(-\\frac{144 \\, y^{2}}{r^{2}}\\right)}}{r^{3}} \\\\ \\mathrm{Riem}\\left(g\\right)_{ \\phantom{\\, {\\phi}} \\, t \\, t \\, {\\phi} }^{ \\, {\\phi} \\phantom{\\, t} \\phantom{\\, t} \\phantom{\\, {\\phi}} } & = & -\\frac{12 \\, {\\left(r - 12\\right)} e^{\\left(-\\frac{144 \\, y^{2}}{r^{2}} - \\frac{48}{r} + \\frac{144}{r^{2}}\\right)}}{r^{4}} \\\\ \\mathrm{Riem}\\left(g\\right)_{ \\phantom{\\, {\\phi}} \\, r \\, r \\, {\\phi} }^{ \\, {\\phi} \\phantom{\\, r} \\phantom{\\, r} \\phantom{\\, {\\phi}} } & = & \\frac{12 \\, {\\left(r^{2} - 144 \\, y^{2} - 12 \\, r + 144\\right)}}{r^{5}} \\\\ \\mathrm{Riem}\\left(g\\right)_{ \\phantom{\\, {\\phi}} \\, r \\, y \\, {\\phi} }^{ \\, {\\phi} \\phantom{\\, r} \\phantom{\\, y} \\phantom{\\, {\\phi}} } & = & \\frac{1728 \\, y}{r^{4}} \\\\ \\mathrm{Riem}\\left(g\\right)_{ \\phantom{\\, {\\phi}} \\, y \\, r \\, {\\phi} }^{ \\, {\\phi} \\phantom{\\, y} \\phantom{\\, r} \\phantom{\\, {\\phi}} } & = & \\frac{1728 \\, y}{r^{4}} \\\\ \\mathrm{Riem}\\left(g\\right)_{ \\phantom{\\, {\\phi}} \\, y \\, y \\, {\\phi} }^{ \\, {\\phi} \\phantom{\\, y} \\phantom{\\, y} \\phantom{\\, {\\phi}} } & = & \\frac{24 \\, {\\left(r^{2} - 72 \\, y^{2} - 12 \\, r + 72\\right)}}{r^{3} y^{2} - r^{3}} \\end{array}</script></html>"
      ],
      "text/plain": [
       "Riem(g)^t_r,t,r = 24*(r^2 - 72*y^2 - 12*r + 72)/r^5 \n",
       "Riem(g)^t_r,t,y = 1728*y/r^4 \n",
       "Riem(g)^t_y,t,r = 1728*y/r^4 \n",
       "Riem(g)^t_y,t,y = 12*(r^2 - 144*y^2 - 12*r + 144)/(r^3*y^2 - r^3) \n",
       "Riem(g)^t_ph,t,ph = 12*((r - 12)*y^2*e^(144/r^2) - (r - 12)*e^(144/r^2))*e^(-144*y^2/r^2)/r^2 \n",
       "Riem(g)^r_t,t,r = -24*(72*y^2*e^(144/r^2) - (r^2 - 12*r + 72)*e^(144/r^2))*e^(-144*y^2/r^2 - 48/r)/r^5 \n",
       "Riem(g)^r_t,t,y = 1728*y*e^(-144*y^2/r^2 - 48/r + 144/r^2)/r^4 \n",
       "Riem(g)^r_y,r,y = 12*(r - 12)/(r^2*y^2 - r^2) \n",
       "Riem(g)^r_ph,r,ph = -12*(144*y^4*e^(144/r^2) - (r^2 - 12*r + 288)*y^2*e^(144/r^2) + (r^2 - 12*r + 144)*e^(144/r^2))*e^(-144*y^2/r^2)/r^3 \n",
       "Riem(g)^r_ph,y,ph = 1728*(y^3*e^(144/r^2) - y*e^(144/r^2))*e^(-144*y^2/r^2)/r^2 \n",
       "Riem(g)^y_t,t,r = -1728*(y^3*e^(144/r^2) - y*e^(144/r^2))*e^(-144*y^2/r^2 - 48/r)/r^6 \n",
       "Riem(g)^y_t,t,y = 12*(144*y^2*e^(144/r^2) - (r^2 - 12*r + 144)*e^(144/r^2))*e^(-144*y^2/r^2 - 48/r)/r^5 \n",
       "Riem(g)^y_r,r,y = 12*(r - 12)/r^4 \n",
       "Riem(g)^y_ph,r,ph = -1728*(y^5*e^(144/r^2) - 2*y^3*e^(144/r^2) + y*e^(144/r^2))*e^(-144*y^2/r^2)/r^4 \n",
       "Riem(g)^y_ph,y,ph = 24*(72*y^4*e^(144/r^2) - (r^2 - 12*r + 144)*y^2*e^(144/r^2) + (r^2 - 12*r + 72)*e^(144/r^2))*e^(-144*y^2/r^2)/r^3 \n",
       "Riem(g)^ph_t,t,ph = -12*(r - 12)*e^(-144*y^2/r^2 - 48/r + 144/r^2)/r^4 \n",
       "Riem(g)^ph_r,r,ph = 12*(r^2 - 144*y^2 - 12*r + 144)/r^5 \n",
       "Riem(g)^ph_r,y,ph = 1728*y/r^4 \n",
       "Riem(g)^ph_y,r,ph = 1728*y/r^4 \n",
       "Riem(g)^ph_y,y,ph = 24*(r^2 - 72*y^2 - 12*r + 72)/(r^3*y^2 - r^3) "
      ]
     },
     "execution_count": 27,
     "metadata": {},
     "output_type": "execute_result"
    }
   ],
   "source": [
    "Riem.display_comp(only_nonredundant=True)"
   ]
  },
  {
   "cell_type": "markdown",
   "metadata": {},
   "source": [
    "<p>The Ricci tensor:</p>"
   ]
  },
  {
   "cell_type": "code",
   "execution_count": 28,
   "metadata": {},
   "outputs": [
    {
     "name": "stdout",
     "output_type": "stream",
     "text": [
      "Field of symmetric bilinear forms Ric(g) on the 4-dimensional Lorentzian manifold M\n"
     ]
    }
   ],
   "source": [
    "Ric = g.ricci()\n",
    "print(Ric)"
   ]
  },
  {
   "cell_type": "markdown",
   "metadata": {},
   "source": [
    "<p>Let us check that the Curzon-Chazy metric is a solution of the<strong> vacuum Einstein equation</strong>:</p>"
   ]
  },
  {
   "cell_type": "code",
   "execution_count": 29,
   "metadata": {},
   "outputs": [
    {
     "data": {
      "text/html": [
       "<html><script type=\"math/tex; mode=display\">\\newcommand{\\Bold}[1]{\\mathbf{#1}}\\mathrm{Ric}\\left(g\\right) = 0</script></html>"
      ],
      "text/plain": [
       "Ric(g) = 0"
      ]
     },
     "execution_count": 29,
     "metadata": {},
     "output_type": "execute_result"
    }
   ],
   "source": [
    "Ric.display()"
   ]
  },
  {
   "cell_type": "markdown",
   "metadata": {},
   "source": [
    "<p><span id=\"cell_outer_24\">The Weyl conformal curvature tensor is<br /></span></p>"
   ]
  },
  {
   "cell_type": "code",
   "execution_count": 30,
   "metadata": {},
   "outputs": [
    {
     "name": "stdout",
     "output_type": "stream",
     "text": [
      "Tensor field C(g) of type (1,3) on the 4-dimensional Lorentzian manifold M\n"
     ]
    }
   ],
   "source": [
    "C = g.weyl()\n",
    "print(C)"
   ]
  },
  {
   "cell_type": "markdown",
   "metadata": {},
   "source": [
    "<p>Let us exhibit two of its components $C^0_{\\ \\, 123}$ and $C^0_{\\ \\, 101}$:</p>"
   ]
  },
  {
   "cell_type": "code",
   "execution_count": 31,
   "metadata": {},
   "outputs": [
    {
     "data": {
      "text/html": [
       "<html><script type=\"math/tex; mode=display\">\\newcommand{\\Bold}[1]{\\mathbf{#1}}0</script></html>"
      ],
      "text/plain": [
       "0"
      ]
     },
     "execution_count": 31,
     "metadata": {},
     "output_type": "execute_result"
    }
   ],
   "source": [
    "C[0,1,2,3]"
   ]
  },
  {
   "cell_type": "code",
   "execution_count": 32,
   "metadata": {},
   "outputs": [
    {
     "data": {
      "text/html": [
       "<html><script type=\"math/tex; mode=display\">\\newcommand{\\Bold}[1]{\\mathbf{#1}}\\frac{24 \\, {\\left(r^{2} - 72 \\, y^{2} - 12 \\, r + 72\\right)}}{r^{5}}</script></html>"
      ],
      "text/plain": [
       "24*(r^2 - 72*y^2 - 12*r + 72)/r^5"
      ]
     },
     "execution_count": 32,
     "metadata": {},
     "output_type": "execute_result"
    }
   ],
   "source": [
    "C[0,1,0,1]"
   ]
  },
  {
   "cell_type": "markdown",
   "metadata": {},
   "source": [
    "<p>To form the Mars-Simon tensor, we need the fully covariant (type-(0,4) tensor) form of the Weyl tensor (i.e. $C_{\\alpha\\beta\\mu\\nu} = g_{\\alpha\\sigma} C^\\sigma_{\\ \\, \\beta\\mu\\nu}$); we get it by lowering the first index with the metric:</p>"
   ]
  },
  {
   "cell_type": "code",
   "execution_count": 33,
   "metadata": {},
   "outputs": [
    {
     "name": "stdout",
     "output_type": "stream",
     "text": [
      "Tensor field of type (0,4) on the 4-dimensional Lorentzian manifold M\n"
     ]
    }
   ],
   "source": [
    "Cd = C.down(g)\n",
    "print(Cd)"
   ]
  },
  {
   "cell_type": "markdown",
   "metadata": {},
   "source": [
    "<p>The (monoterm) symmetries of this tensor are those inherited from the Weyl tensor, i.e. the antisymmetry on the last two indices (position 2 and 3, the first index being at position 0):</p>"
   ]
  },
  {
   "cell_type": "code",
   "execution_count": 34,
   "metadata": {},
   "outputs": [
    {
     "name": "stdout",
     "output_type": "stream",
     "text": [
      "no symmetry; antisymmetry: (2, 3)\n"
     ]
    }
   ],
   "source": [
    "Cd.symmetries()"
   ]
  },
  {
   "cell_type": "markdown",
   "metadata": {},
   "source": [
    "<p>Actually, Cd is also antisymmetric with respect to the first two indices (positions 0 and 1), as we can check:</p>"
   ]
  },
  {
   "cell_type": "code",
   "execution_count": 35,
   "metadata": {},
   "outputs": [
    {
     "data": {
      "text/html": [
       "<html><script type=\"math/tex; mode=display\">\\newcommand{\\Bold}[1]{\\mathbf{#1}}\\mathrm{True}</script></html>"
      ],
      "text/plain": [
       "True"
      ]
     },
     "execution_count": 35,
     "metadata": {},
     "output_type": "execute_result"
    }
   ],
   "source": [
    "Cd == Cd.antisymmetrize(0,1)"
   ]
  },
  {
   "cell_type": "markdown",
   "metadata": {},
   "source": [
    "<p>To take this symmetry into account explicitely, we set</p>"
   ]
  },
  {
   "cell_type": "code",
   "execution_count": 36,
   "metadata": {},
   "outputs": [],
   "source": [
    "Cd = Cd.antisymmetrize(0,1)"
   ]
  },
  {
   "cell_type": "markdown",
   "metadata": {},
   "source": [
    "<p>Hence we have now</p>"
   ]
  },
  {
   "cell_type": "code",
   "execution_count": 37,
   "metadata": {},
   "outputs": [
    {
     "name": "stdout",
     "output_type": "stream",
     "text": [
      "no symmetry; antisymmetries: [(0, 1), (2, 3)]\n"
     ]
    }
   ],
   "source": [
    "Cd.symmetries()"
   ]
  },
  {
   "cell_type": "markdown",
   "metadata": {},
   "source": [
    "<h2>Simon-Mars tensor</h2>\n",
    "<p>The Simon-Mars tensor with respect to the Killing vector $\\xi$ is a rank-3 tensor introduced by Marc Mars in 1999 (<a href=\"http://iopscience.iop.org/0264-9381/16/7/323/\">Class. Quantum Grav. <strong>16</strong>, 2507</a>). It has the remarkable property to vanish identically if, and only if, the spacetime $(\\mathcal{M},g)$ is locally isometric to a Kerr spacetime.</p>\n",
    "<p>Let us evaluate the Simon-Mars tensor by following the formulas given in Mars' article. The starting point is the self-dual complex 2-form associated with the Killing 2-form $F$, i.e. the object $\\mathcal{F} := F + i \\, {}^* F$, where ${}^*F$ is the Hodge dual of $F$:</p>"
   ]
  },
  {
   "cell_type": "code",
   "execution_count": 38,
   "metadata": {},
   "outputs": [
    {
     "name": "stdout",
     "output_type": "stream",
     "text": [
      "2-form FF on the 4-dimensional Lorentzian manifold M\n"
     ]
    },
    {
     "data": {
      "text/html": [
       "<html><script type=\"math/tex; mode=display\">\\newcommand{\\Bold}[1]{\\mathbf{#1}}\\mathcal{F} = \\frac{12 \\, e^{\\left(-\\frac{24}{r}\\right)}}{r^{2}} \\mathrm{d} t\\wedge \\mathrm{d} r -12 i \\mathrm{d} y\\wedge \\mathrm{d} {\\phi}</script></html>"
      ],
      "text/plain": [
       "FF = 12*e^(-24/r)/r^2 dt/\\dr - 12*I dy/\\dph"
      ]
     },
     "execution_count": 38,
     "metadata": {},
     "output_type": "execute_result"
    }
   ],
   "source": [
    "FF = F + I * F.hodge_dual(g)\n",
    "FF.set_name('FF', r'\\mathcal{F}')\n",
    "print(FF) ; FF.display()"
   ]
  },
  {
   "cell_type": "markdown",
   "metadata": {},
   "source": [
    "<p>Let us check that $\\mathcal{F}$ is self-dual, i.e. that it obeys ${}^* \\mathcal{F} = -i \\mathcal{F}$:</p>"
   ]
  },
  {
   "cell_type": "code",
   "execution_count": 39,
   "metadata": {},
   "outputs": [
    {
     "data": {
      "text/html": [
       "<html><script type=\"math/tex; mode=display\">\\newcommand{\\Bold}[1]{\\mathbf{#1}}\\mathrm{True}</script></html>"
      ],
      "text/plain": [
       "True"
      ]
     },
     "execution_count": 39,
     "metadata": {},
     "output_type": "execute_result"
    }
   ],
   "source": [
    "FF.hodge_dual(g) == - I * FF"
   ]
  },
  {
   "cell_type": "markdown",
   "metadata": {},
   "source": [
    "<p>Let us form the right self-dual of the Weyl tensor as follows</p>\n",
    "<p>$$\\mathcal{C}_{\\alpha\\beta\\mu\\nu} = C_{\\alpha\\beta\\mu\\nu} + \\frac{i}{2} \\epsilon^{\\rho\\sigma}_{\\ \\ \\ \\mu\\nu} \\, C_{\\alpha\\beta\\rho\\sigma}$$</p>\n",
    "<p>where $\\epsilon^{\\rho\\sigma}_{\\ \\ \\ \\mu\\nu}$ is associated to the Levi-Civita tensor $\\epsilon_{\\rho\\sigma\\mu\\nu}$ and is obtained by</p>"
   ]
  },
  {
   "cell_type": "code",
   "execution_count": 40,
   "metadata": {},
   "outputs": [
    {
     "name": "stdout",
     "output_type": "stream",
     "text": [
      "Tensor field of type (2,2) on the 4-dimensional Lorentzian manifold M\n",
      "no symmetry; antisymmetries: [(0, 1), (2, 3)]\n"
     ]
    }
   ],
   "source": [
    "eps = g.volume_form(2)  # 2 = the first 2 indices are contravariant\n",
    "print(eps)\n",
    "eps.symmetries()"
   ]
  },
  {
   "cell_type": "markdown",
   "metadata": {},
   "source": [
    "<p>The right self-dual Weyl tensor is then:</p>"
   ]
  },
  {
   "cell_type": "code",
   "execution_count": 41,
   "metadata": {},
   "outputs": [
    {
     "name": "stdout",
     "output_type": "stream",
     "text": [
      "Tensor field CC of type (0,4) on the 4-dimensional Lorentzian manifold M\n"
     ]
    }
   ],
   "source": [
    "CC = Cd + I/2*( eps['^rs_..']*Cd['_..rs'] )\n",
    "CC.set_name('CC', r'\\mathcal{C}') ; print(CC)"
   ]
  },
  {
   "cell_type": "code",
   "execution_count": 42,
   "metadata": {},
   "outputs": [
    {
     "name": "stdout",
     "output_type": "stream",
     "text": [
      "no symmetry; antisymmetries: [(0, 1), (2, 3)]\n"
     ]
    }
   ],
   "source": [
    "CC.symmetries()"
   ]
  },
  {
   "cell_type": "code",
   "execution_count": 43,
   "metadata": {},
   "outputs": [
    {
     "data": {
      "text/html": [
       "<html><script type=\"math/tex; mode=display\">\\newcommand{\\Bold}[1]{\\mathbf{#1}}\\frac{24 i \\, r^{2} - 1728 i \\, y^{2} - 288 i \\, r + 1728 i}{r^{3}}</script></html>"
      ],
      "text/plain": [
       "(24*I*r^2 - 1728*I*y^2 - 288*I*r + 1728*I)/r^3"
      ]
     },
     "execution_count": 43,
     "metadata": {},
     "output_type": "execute_result"
    }
   ],
   "source": [
    "CC[0,1,2,3]"
   ]
  },
  {
   "cell_type": "markdown",
   "metadata": {},
   "source": [
    "<p>The Ernst 1-form $\\sigma_\\alpha = 2 \\mathcal{F}_{\\mu\\alpha} \\, \\xi^\\mu$ (0 = contraction on the first index of $\\mathcal{F}$):</p>"
   ]
  },
  {
   "cell_type": "code",
   "execution_count": 44,
   "metadata": {},
   "outputs": [],
   "source": [
    "sigma = 2*FF.contract(0, xi)"
   ]
  },
  {
   "cell_type": "markdown",
   "metadata": {},
   "source": [
    "<p>Instead of invoking the function <span style=\"font-family: courier new,courier;\">contract()</span>, we could have used the index notation to denote the contraction:</p>"
   ]
  },
  {
   "cell_type": "code",
   "execution_count": 45,
   "metadata": {},
   "outputs": [
    {
     "data": {
      "text/html": [
       "<html><script type=\"math/tex; mode=display\">\\newcommand{\\Bold}[1]{\\mathbf{#1}}\\mathrm{True}</script></html>"
      ],
      "text/plain": [
       "True"
      ]
     },
     "execution_count": 45,
     "metadata": {},
     "output_type": "execute_result"
    }
   ],
   "source": [
    "sigma == 2*( FF['_ma']*xi['^m'] )"
   ]
  },
  {
   "cell_type": "code",
   "execution_count": 46,
   "metadata": {},
   "outputs": [
    {
     "name": "stdout",
     "output_type": "stream",
     "text": [
      "1-form sigma on the 4-dimensional Lorentzian manifold M\n"
     ]
    },
    {
     "data": {
      "text/html": [
       "<html><script type=\"math/tex; mode=display\">\\newcommand{\\Bold}[1]{\\mathbf{#1}}\\sigma = \\frac{24 \\, e^{\\left(-\\frac{24}{r}\\right)}}{r^{2}} \\mathrm{d} r</script></html>"
      ],
      "text/plain": [
       "sigma = 24*e^(-24/r)/r^2 dr"
      ]
     },
     "execution_count": 46,
     "metadata": {},
     "output_type": "execute_result"
    }
   ],
   "source": [
    "sigma.set_name('sigma', r'\\sigma')\n",
    "print(sigma) ; sigma.display()"
   ]
  },
  {
   "cell_type": "markdown",
   "metadata": {},
   "source": [
    "<p>The symmetric bilinear form $\\gamma = \\lambda \\, g + \\underline{\\xi}\\otimes\\underline{\\xi}$:</p>"
   ]
  },
  {
   "cell_type": "code",
   "execution_count": 47,
   "metadata": {},
   "outputs": [
    {
     "name": "stdout",
     "output_type": "stream",
     "text": [
      "Field of symmetric bilinear forms gamma on the 4-dimensional Lorentzian manifold M\n"
     ]
    },
    {
     "data": {
      "text/html": [
       "<html><script type=\"math/tex; mode=display\">\\newcommand{\\Bold}[1]{\\mathbf{#1}}\\gamma = e^{\\left(\\frac{144 \\, y^{2}}{r^{2}} - \\frac{144}{r^{2}}\\right)} \\mathrm{d} r\\otimes \\mathrm{d} r + \\left( -\\frac{r^{2} e^{\\left(\\frac{144 \\, y^{2}}{r^{2}}\\right)}}{y^{2} e^{\\left(\\frac{144}{r^{2}}\\right)} - e^{\\left(\\frac{144}{r^{2}}\\right)}} \\right) \\mathrm{d} y\\otimes \\mathrm{d} y + \\left( -r^{2} y^{2} + r^{2} \\right) \\mathrm{d} {\\phi}\\otimes \\mathrm{d} {\\phi}</script></html>"
      ],
      "text/plain": [
       "gamma = e^(144*y^2/r^2 - 144/r^2) dr*dr - r^2*e^(144*y^2/r^2)/(y^2*e^(144/r^2) - e^(144/r^2)) dy*dy + (-r^2*y^2 + r^2) dph*dph"
      ]
     },
     "execution_count": 47,
     "metadata": {},
     "output_type": "execute_result"
    }
   ],
   "source": [
    "gamma = lamb*g + xi_form * xi_form\n",
    "gamma.set_name('gamma', r'\\gamma')\n",
    "print(gamma) ; gamma.display()"
   ]
  },
  {
   "cell_type": "markdown",
   "metadata": {},
   "source": [
    "<h3>Final computation leading to the Simon-Mars tensor:</h3>\n",
    "<p>The first part of the Simon-Mars tensor is</p>\n",
    "<p>$$ S^{(1)}_{\\alpha\\beta\\gamma} = 4 \\mathcal{C}_{\\mu\\alpha\\nu\\beta} \\, \\xi^\\mu \\, \\xi^\\nu \\, \\sigma_\\gamma$$</p>"
   ]
  },
  {
   "cell_type": "code",
   "execution_count": 48,
   "metadata": {},
   "outputs": [
    {
     "name": "stdout",
     "output_type": "stream",
     "text": [
      "Tensor field of type (0,3) on the 4-dimensional Lorentzian manifold M\n"
     ]
    }
   ],
   "source": [
    "S1 = 4*( CC.contract(0,xi).contract(1,xi) ) * sigma\n",
    "print(S1)"
   ]
  },
  {
   "cell_type": "markdown",
   "metadata": {},
   "source": [
    "<p>The second part is the tensor</p>\n",
    "<p>$$ S^{(2)}_{\\alpha\\beta\\gamma} = - \\gamma_{\\alpha\\beta} \\, \\mathcal{C}_{\\rho\\gamma\\mu\\nu} \\, \\xi^\\rho \\, \\mathcal{F}^{\\mu\\nu}$$</p>\n",
    "<p>which we compute by using the index notation to denote the contractions:</p>"
   ]
  },
  {
   "cell_type": "code",
   "execution_count": 49,
   "metadata": {},
   "outputs": [
    {
     "name": "stdout",
     "output_type": "stream",
     "text": [
      "Tensor field of type (0,3) on the 4-dimensional Lorentzian manifold M\n"
     ]
    }
   ],
   "source": [
    "FFuu = FF.up(g)\n",
    "xiCC = CC['_.r..']*xi['^r']\n",
    "S2 = gamma * ( xiCC['_.mn']*FFuu['^mn'] )\n",
    "print(S2)"
   ]
  },
  {
   "cell_type": "code",
   "execution_count": 50,
   "metadata": {},
   "outputs": [
    {
     "name": "stdout",
     "output_type": "stream",
     "text": [
      "symmetry: (0, 1); no antisymmetry\n"
     ]
    }
   ],
   "source": [
    "S2.symmetries()"
   ]
  },
  {
   "cell_type": "markdown",
   "metadata": {},
   "source": [
    "<p>The Mars-Simon tensor with respect to $\\xi$ is obtained by antisymmetrizing $S^{(1)}$ and $S^{(2)}$ on their last two indices and adding them:</p>\n",
    "<div>$$ S_{\\alpha\\beta\\gamma} = S^{(1)}_{\\alpha[\\beta\\gamma]} + S^{(2)}_{\\alpha[\\beta\\gamma]}$$</div>\n",
    "\n",
    "<p>We use the index notation for the antisymmetrization:</p>"
   ]
  },
  {
   "cell_type": "code",
   "execution_count": 51,
   "metadata": {},
   "outputs": [],
   "source": [
    "S1A = S1['_a[bc]']\n",
    "S2A = S2['_a[bc]']"
   ]
  },
  {
   "cell_type": "markdown",
   "metadata": {},
   "source": [
    "<p>An equivalent writing would have been (the last two indices being in position 1 and 2):</p>"
   ]
  },
  {
   "cell_type": "code",
   "execution_count": 52,
   "metadata": {},
   "outputs": [],
   "source": [
    "# S1A = S1.antisymmetrize(1,2)\n",
    "# S2A = S2.antisymmetrize(1,2)"
   ]
  },
  {
   "cell_type": "markdown",
   "metadata": {},
   "source": [
    "<p>The Simon-Mars tensor is</p>"
   ]
  },
  {
   "cell_type": "code",
   "execution_count": 53,
   "metadata": {},
   "outputs": [
    {
     "name": "stdout",
     "output_type": "stream",
     "text": [
      "Tensor field S of type (0,3) on the 4-dimensional Lorentzian manifold M\n",
      "no symmetry; antisymmetry: (1, 2)\n"
     ]
    }
   ],
   "source": [
    "S = S1A + S2A\n",
    "S.set_name('S') ; print(S)\n",
    "S.symmetries()"
   ]
  },
  {
   "cell_type": "code",
   "execution_count": 54,
   "metadata": {},
   "outputs": [
    {
     "data": {
      "text/html": [
       "<html><script type=\"math/tex; mode=display\">\\newcommand{\\Bold}[1]{\\mathbf{#1}}S = \\frac{41472 \\, y e^{\\left(-\\frac{48}{r}\\right)}}{r^{6}} \\mathrm{d} r\\otimes \\mathrm{d} r\\otimes \\mathrm{d} y -\\frac{41472 \\, y e^{\\left(-\\frac{48}{r}\\right)}}{r^{6}} \\mathrm{d} r\\otimes \\mathrm{d} y\\otimes \\mathrm{d} r -\\frac{41472 \\, e^{\\left(-\\frac{48}{r}\\right)}}{r^{5}} \\mathrm{d} y\\otimes \\mathrm{d} r\\otimes \\mathrm{d} y + \\frac{41472 \\, e^{\\left(-\\frac{48}{r}\\right)}}{r^{5}} \\mathrm{d} y\\otimes \\mathrm{d} y\\otimes \\mathrm{d} r + \\frac{41472 \\, {\\left(y^{4} e^{\\left(\\frac{144}{r^{2}}\\right)} - 2 \\, y^{2} e^{\\left(\\frac{144}{r^{2}}\\right)} + e^{\\left(\\frac{144}{r^{2}}\\right)}\\right)} e^{\\left(-\\frac{144 \\, y^{2}}{r^{2}} - \\frac{48}{r}\\right)}}{r^{5}} \\mathrm{d} {\\phi}\\otimes \\mathrm{d} r\\otimes \\mathrm{d} {\\phi} -\\frac{41472 \\, {\\left(y^{3} e^{\\left(\\frac{144}{r^{2}}\\right)} - y e^{\\left(\\frac{144}{r^{2}}\\right)}\\right)} e^{\\left(-\\frac{144 \\, y^{2}}{r^{2}} - \\frac{48}{r}\\right)}}{r^{4}} \\mathrm{d} {\\phi}\\otimes \\mathrm{d} y\\otimes \\mathrm{d} {\\phi} -\\frac{41472 \\, {\\left(y^{4} e^{\\left(\\frac{144}{r^{2}}\\right)} - 2 \\, y^{2} e^{\\left(\\frac{144}{r^{2}}\\right)} + e^{\\left(\\frac{144}{r^{2}}\\right)}\\right)} e^{\\left(-\\frac{144 \\, y^{2}}{r^{2}} - \\frac{48}{r}\\right)}}{r^{5}} \\mathrm{d} {\\phi}\\otimes \\mathrm{d} {\\phi}\\otimes \\mathrm{d} r + \\frac{41472 \\, {\\left(y^{3} e^{\\left(\\frac{144}{r^{2}}\\right)} - y e^{\\left(\\frac{144}{r^{2}}\\right)}\\right)} e^{\\left(-\\frac{144 \\, y^{2}}{r^{2}} - \\frac{48}{r}\\right)}}{r^{4}} \\mathrm{d} {\\phi}\\otimes \\mathrm{d} {\\phi}\\otimes \\mathrm{d} y</script></html>"
      ],
      "text/plain": [
       "S = 41472*y*e^(-48/r)/r^6 dr*dr*dy - 41472*y*e^(-48/r)/r^6 dr*dy*dr - 41472*e^(-48/r)/r^5 dy*dr*dy + 41472*e^(-48/r)/r^5 dy*dy*dr + 41472*(y^4*e^(144/r^2) - 2*y^2*e^(144/r^2) + e^(144/r^2))*e^(-144*y^2/r^2 - 48/r)/r^5 dph*dr*dph - 41472*(y^3*e^(144/r^2) - y*e^(144/r^2))*e^(-144*y^2/r^2 - 48/r)/r^4 dph*dy*dph - 41472*(y^4*e^(144/r^2) - 2*y^2*e^(144/r^2) + e^(144/r^2))*e^(-144*y^2/r^2 - 48/r)/r^5 dph*dph*dr + 41472*(y^3*e^(144/r^2) - y*e^(144/r^2))*e^(-144*y^2/r^2 - 48/r)/r^4 dph*dph*dy"
      ]
     },
     "execution_count": 54,
     "metadata": {},
     "output_type": "execute_result"
    }
   ],
   "source": [
    "S.display()"
   ]
  },
  {
   "cell_type": "code",
   "execution_count": 55,
   "metadata": {},
   "outputs": [
    {
     "data": {
      "text/html": [
       "<html><script type=\"math/tex; mode=display\">\\newcommand{\\Bold}[1]{\\mathbf{#1}}\\begin{array}{lcl} S_{ \\, r \\, r \\, y }^{ \\phantom{\\, r}\\phantom{\\, r}\\phantom{\\, y} } & = & \\frac{41472 \\, y e^{\\left(-\\frac{48}{r}\\right)}}{r^{6}} \\\\ S_{ \\, r \\, y \\, r }^{ \\phantom{\\, r}\\phantom{\\, y}\\phantom{\\, r} } & = & -\\frac{41472 \\, y e^{\\left(-\\frac{48}{r}\\right)}}{r^{6}} \\\\ S_{ \\, y \\, r \\, y }^{ \\phantom{\\, y}\\phantom{\\, r}\\phantom{\\, y} } & = & -\\frac{41472 \\, e^{\\left(-\\frac{48}{r}\\right)}}{r^{5}} \\\\ S_{ \\, y \\, y \\, r }^{ \\phantom{\\, y}\\phantom{\\, y}\\phantom{\\, r} } & = & \\frac{41472 \\, e^{\\left(-\\frac{48}{r}\\right)}}{r^{5}} \\\\ S_{ \\, {\\phi} \\, r \\, {\\phi} }^{ \\phantom{\\, {\\phi}}\\phantom{\\, r}\\phantom{\\, {\\phi}} } & = & \\frac{41472 \\, {\\left(y^{4} e^{\\left(\\frac{144}{r^{2}}\\right)} - 2 \\, y^{2} e^{\\left(\\frac{144}{r^{2}}\\right)} + e^{\\left(\\frac{144}{r^{2}}\\right)}\\right)} e^{\\left(-\\frac{144 \\, y^{2}}{r^{2}} - \\frac{48}{r}\\right)}}{r^{5}} \\\\ S_{ \\, {\\phi} \\, y \\, {\\phi} }^{ \\phantom{\\, {\\phi}}\\phantom{\\, y}\\phantom{\\, {\\phi}} } & = & -\\frac{41472 \\, {\\left(y^{3} e^{\\left(\\frac{144}{r^{2}}\\right)} - y e^{\\left(\\frac{144}{r^{2}}\\right)}\\right)} e^{\\left(-\\frac{144 \\, y^{2}}{r^{2}} - \\frac{48}{r}\\right)}}{r^{4}} \\\\ S_{ \\, {\\phi} \\, {\\phi} \\, r }^{ \\phantom{\\, {\\phi}}\\phantom{\\, {\\phi}}\\phantom{\\, r} } & = & -\\frac{41472 \\, {\\left(y^{4} e^{\\left(\\frac{144}{r^{2}}\\right)} - 2 \\, y^{2} e^{\\left(\\frac{144}{r^{2}}\\right)} + e^{\\left(\\frac{144}{r^{2}}\\right)}\\right)} e^{\\left(-\\frac{144 \\, y^{2}}{r^{2}} - \\frac{48}{r}\\right)}}{r^{5}} \\\\ S_{ \\, {\\phi} \\, {\\phi} \\, y }^{ \\phantom{\\, {\\phi}}\\phantom{\\, {\\phi}}\\phantom{\\, y} } & = & \\frac{41472 \\, {\\left(y^{3} e^{\\left(\\frac{144}{r^{2}}\\right)} - y e^{\\left(\\frac{144}{r^{2}}\\right)}\\right)} e^{\\left(-\\frac{144 \\, y^{2}}{r^{2}} - \\frac{48}{r}\\right)}}{r^{4}} \\end{array}</script></html>"
      ],
      "text/plain": [
       "S_r,r,y = 41472*y*e^(-48/r)/r^6 \n",
       "S_r,y,r = -41472*y*e^(-48/r)/r^6 \n",
       "S_y,r,y = -41472*e^(-48/r)/r^5 \n",
       "S_y,y,r = 41472*e^(-48/r)/r^5 \n",
       "S_ph,r,ph = 41472*(y^4*e^(144/r^2) - 2*y^2*e^(144/r^2) + e^(144/r^2))*e^(-144*y^2/r^2 - 48/r)/r^5 \n",
       "S_ph,y,ph = -41472*(y^3*e^(144/r^2) - y*e^(144/r^2))*e^(-144*y^2/r^2 - 48/r)/r^4 \n",
       "S_ph,ph,r = -41472*(y^4*e^(144/r^2) - 2*y^2*e^(144/r^2) + e^(144/r^2))*e^(-144*y^2/r^2 - 48/r)/r^5 \n",
       "S_ph,ph,y = 41472*(y^3*e^(144/r^2) - y*e^(144/r^2))*e^(-144*y^2/r^2 - 48/r)/r^4 "
      ]
     },
     "execution_count": 55,
     "metadata": {},
     "output_type": "execute_result"
    }
   ],
   "source": [
    "S.display_comp()"
   ]
  },
  {
   "cell_type": "markdown",
   "metadata": {},
   "source": [
    "<p>Hence the Simon-Mars tensor is not zero: the Curzon-Chazy spacetime is not locally isomorphic to the Kerr spacetime.</p>\n",
    "<h3>Computation of the Simon-Mars scalars</h3>\n",
    "<p>First we form the \"square\" of the Simon-Mars tensor:</p>"
   ]
  },
  {
   "cell_type": "code",
   "execution_count": 56,
   "metadata": {},
   "outputs": [
    {
     "name": "stdout",
     "output_type": "stream",
     "text": [
      "Tensor field of type (3,0) on the 4-dimensional Lorentzian manifold M\n"
     ]
    }
   ],
   "source": [
    "Su = S.up(g)\n",
    "print(Su)"
   ]
  },
  {
   "cell_type": "code",
   "execution_count": 57,
   "metadata": {},
   "outputs": [
    {
     "name": "stdout",
     "output_type": "stream",
     "text": [
      "Scalar field on the 4-dimensional Lorentzian manifold M\n"
     ]
    }
   ],
   "source": [
    "SS = S['_ijk']*Su['^ijk']\n",
    "print(SS)"
   ]
  },
  {
   "cell_type": "code",
   "execution_count": 58,
   "metadata": {},
   "outputs": [
    {
     "data": {
      "text/html": [
       "<html><script type=\"math/tex; mode=display\">\\newcommand{\\Bold}[1]{\\mathbf{#1}}\\begin{array}{llcl} & \\mathcal{M} & \\longrightarrow & \\mathbb{R} \\\\ & \\left(t, r, y, {\\phi}\\right) & \\longmapsto & -\\frac{6879707136 \\, {\\left(y^{2} e^{\\left(\\frac{432}{r^{2}}\\right)} - e^{\\left(\\frac{432}{r^{2}}\\right)}\\right)} e^{\\left(-\\frac{432 \\, y^{2}}{r^{2}} - \\frac{168}{r}\\right)}}{r^{14}} \\end{array}</script></html>"
      ],
      "text/plain": [
       "M --> R\n",
       "(t, r, y, ph) |--> -6879707136*(y^2*e^(432/r^2) - e^(432/r^2))*e^(-432*y^2/r^2 - 168/r)/r^14"
      ]
     },
     "execution_count": 58,
     "metadata": {},
     "output_type": "execute_result"
    }
   ],
   "source": [
    "SS.display()"
   ]
  },
  {
   "cell_type": "code",
   "execution_count": 59,
   "metadata": {},
   "outputs": [],
   "source": [
    "SSE=SS.expr()"
   ]
  },
  {
   "cell_type": "markdown",
   "metadata": {},
   "source": [
    "<p>Then we take the real and imaginary part of this compex scalar field. Because this spacetime is spherically symmetric, we expect that the imaginary part vanishes.</p>"
   ]
  },
  {
   "cell_type": "code",
   "execution_count": 60,
   "metadata": {},
   "outputs": [
    {
     "data": {
      "text/html": [
       "<html><script type=\"math/tex; mode=display\">\\newcommand{\\Bold}[1]{\\mathbf{#1}}-\\frac{6879707136 \\, {\\left(y^{2} e^{\\left(\\frac{432}{r^{2}}\\right)} - e^{\\left(\\frac{432}{r^{2}}\\right)}\\right)} e^{\\left(-\\frac{432 \\, y^{2}}{r^{2}} - \\frac{168}{r}\\right)}}{r^{14}}</script></html>"
      ],
      "text/plain": [
       "-6879707136*(y^2*e^(432/r^2) - e^(432/r^2))*e^(-432*y^2/r^2 - 168/r)/r^14"
      ]
     },
     "execution_count": 60,
     "metadata": {},
     "output_type": "execute_result"
    }
   ],
   "source": [
    "SS1 = real(SSE) ; SS1"
   ]
  },
  {
   "cell_type": "code",
   "execution_count": 61,
   "metadata": {},
   "outputs": [
    {
     "data": {
      "text/html": [
       "<html><script type=\"math/tex; mode=display\">\\newcommand{\\Bold}[1]{\\mathbf{#1}}0</script></html>"
      ],
      "text/plain": [
       "0"
      ]
     },
     "execution_count": 61,
     "metadata": {},
     "output_type": "execute_result"
    }
   ],
   "source": [
    "SS2 = imag(SSE) ; SS2"
   ]
  },
  {
   "cell_type": "markdown",
   "metadata": {},
   "source": [
    "<p>Furthermore we scale those scalars by the ADM mass of the Curzon-Chazy spacetime, which corresponds to $m$:</p>"
   ]
  },
  {
   "cell_type": "code",
   "execution_count": 62,
   "metadata": {},
   "outputs": [
    {
     "data": {
      "text/html": [
       "<html><script type=\"math/tex; mode=display\">\\newcommand{\\Bold}[1]{\\mathbf{#1}}-\\frac{20542695432781824 \\, {\\left(y^{2} e^{\\left(\\frac{432}{r^{2}}\\right)} - e^{\\left(\\frac{432}{r^{2}}\\right)}\\right)} e^{\\left(-\\frac{432 \\, y^{2}}{r^{2}} - \\frac{168}{r}\\right)}}{r^{14}}</script></html>"
      ],
      "text/plain": [
       "-20542695432781824*(y^2*e^(432/r^2) - e^(432/r^2))*e^(-432*y^2/r^2 - 168/r)/r^14"
      ]
     },
     "execution_count": 62,
     "metadata": {},
     "output_type": "execute_result"
    }
   ],
   "source": [
    "SS1ad = m^6*SS1 ; SS1ad"
   ]
  },
  {
   "cell_type": "markdown",
   "metadata": {},
   "source": [
    "<p>And we take the log of this quantity</p>"
   ]
  },
  {
   "cell_type": "code",
   "execution_count": 63,
   "metadata": {},
   "outputs": [
    {
     "data": {
      "text/html": [
       "<html><script type=\"math/tex; mode=display\">\\newcommand{\\Bold}[1]{\\mathbf{#1}}\\frac{\\log\\left(-\\frac{20542695432781824 \\, {\\left(y^{2} e^{\\left(\\frac{432}{r^{2}}\\right)} - e^{\\left(\\frac{432}{r^{2}}\\right)}\\right)} e^{\\left(-\\frac{432 \\, y^{2}}{r^{2}} - \\frac{168}{r}\\right)}}{r^{14}}\\right)}{\\log\\left(10\\right)}</script></html>"
      ],
      "text/plain": [
       "log(-20542695432781824*(y^2*e^(432/r^2) - e^(432/r^2))*e^(-432*y^2/r^2 - 168/r)/r^14)/log(10)"
      ]
     },
     "execution_count": 63,
     "metadata": {},
     "output_type": "execute_result"
    }
   ],
   "source": [
    "lSS1ad = log(SS1ad,10) ; lSS1ad"
   ]
  },
  {
   "cell_type": "markdown",
   "metadata": {},
   "source": [
    "<p>Then we plot the value of this quantity as a function of $\\rho = x = r \\sqrt{1-y^2}$ and $z = r y$, thereby producing Figure 10 of <a href=\"http://arxiv.org/abs/1412.6542\">arXiv:1412.6542</a>:</p>"
   ]
  },
  {
   "cell_type": "code",
   "execution_count": 64,
   "metadata": {},
   "outputs": [
    {
     "data": {
      "text/html": [
       "<html><script type=\"math/tex; mode=display\">\\newcommand{\\Bold}[1]{\\mathbf{#1}}\\frac{\\log\\left(\\frac{20542695432781824 \\, x^{2} e^{\\left(-\\frac{432 \\, z^{2}}{x^{4} + 2 \\, x^{2} z^{2} + z^{4}} - \\frac{168}{\\sqrt{x^{2} + z^{2}}} + \\frac{432}{x^{2} + z^{2}}\\right)}}{x^{16} + 8 \\, x^{14} z^{2} + 28 \\, x^{12} z^{4} + 56 \\, x^{10} z^{6} + 70 \\, x^{8} z^{8} + 56 \\, x^{6} z^{10} + 28 \\, x^{4} z^{12} + 8 \\, x^{2} z^{14} + z^{16}}\\right)}{\\log\\left(10\\right)}</script></html>"
      ],
      "text/plain": [
       "log(20542695432781824*x^2*e^(-432*z^2/(x^4 + 2*x^2*z^2 + z^4) - 168/sqrt(x^2 + z^2) + 432/(x^2 + z^2))/(x^16 + 8*x^14*z^2 + 28*x^12*z^4 + 56*x^10*z^6 + 70*x^8*z^8 + 56*x^6*z^10 + 28*x^4*z^12 + 8*x^2*z^14 + z^16))/log(10)"
      ]
     },
     "execution_count": 64,
     "metadata": {},
     "output_type": "execute_result"
    }
   ],
   "source": [
    "var('x z')\n",
    "lSS1xzad = lSS1ad.subs(r=sqrt(x^2+z^2), \n",
    "                       y = z/sqrt(x^2+z^2)).simplify_full()\n",
    "lSS1xzad"
   ]
  },
  {
   "cell_type": "code",
   "execution_count": 65,
   "metadata": {},
   "outputs": [
    {
     "data": {
      "image/png": "[encoded data removed]",
      "text/plain": [
       "Graphics object consisting of 1 graphics primitive"
      ]
     },
     "execution_count": 65,
     "metadata": {},
     "output_type": "execute_result"
    }
   ],
   "source": [
    "S1CC1 = contour_plot(lSS1xzad, (x,-20,20), (z,-20,20), plot_points=200, \n",
    "                     fill=False, cmap='hsv', linewidths=1, \n",
    "                     contours=(-14,-13.5,-13,-12.5,-12,-11.5,-11,\n",
    "                               -10.5,-10,-9.5,-9,-8.5,-8,-7.5,-7,\n",
    "                               -6.5,-6,-5.5,-5,-4.5,-4,-3.5,-3,-2.5,\n",
    "                               -2,-1.5,-1,-0.5,0), \n",
    "                     colorbar=True, colorbar_spacing='uniform', \n",
    "                     colorbar_format='%1.f', \n",
    "                     axes_labels=(r\"$\\rho\\,\\left[M\\right]$\", \n",
    "                                  r\"$z\\,\\left[M\\right]$\"), \n",
    "                     fontsize=14)\n",
    "S1CC1"
   ]
  },
  {
   "cell_type": "markdown",
   "metadata": {},
   "source": [
    "We also a viewer for 3D plots (use `'threejs'` or `'jmol'` for interactive 3D graphics):"
   ]
  },
  {
   "cell_type": "code",
   "execution_count": 66,
   "metadata": {},
   "outputs": [],
   "source": [
    "viewer3D = 'tachyon' # must be 'threejs', 'jmol', 'tachyon' or None (default)"
   ]
  },
  {
   "cell_type": "code",
   "execution_count": 67,
   "metadata": {},
   "outputs": [
    {
     "data": {
      "image/png": "[encoded data removed]",
      "text/plain": [
       "Graphics3d Object"
      ]
     },
     "execution_count": 67,
     "metadata": {},
     "output_type": "execute_result"
    }
   ],
   "source": [
    "plot3d(lSS1xzad, (x,0.12,20), (z,0.12,20), viewer=viewer3D, \n",
    "       aspect_ratio=[1,1,0.05], plot_points=100,\n",
    "       axes_labels=['rho', 'z', 'log(beta)'])"
   ]
  }
 ],
 "metadata": {
  "kernelspec": {
   "display_name": "SageMath 8.3",
   "language": "",
   "name": "sagemath"
  },
  "language": "python",
  "language_info": {
   "codemirror_mode": {
    "name": "ipython",
    "version": 2
   },
   "file_extension": ".py",
   "mimetype": "text/x-python",
   "name": "python",
   "nbconvert_exporter": "python",
   "pygments_lexer": "ipython2",
   "version": "2.7.15"
  }
 },
 "nbformat": 4,
 "nbformat_minor": 1
}
