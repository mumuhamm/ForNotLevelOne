{
 "cells": [
  {
   "cell_type": "code",
   "execution_count": 10,
   "id": "6c75132b-129c-4613-9b23-f0e0f8da48d6",
   "metadata": {},
   "outputs": [
    {
     "name": "stdout",
     "output_type": "stream",
     "text": [
      "Error during plotting: tuple index out of range\n"
     ]
    }
   ],
   "source": [
    "from sage.all import pi, sin, cos, Manifold, RealField\n",
    "\n",
    "# Define the manifolds and mappings\n",
    "S2 = Manifold(2, 'S^2')\n",
    "U = S2.open_subset('U')\n",
    "XS.<th, ph> = U.chart(r'th:(0,pi):\\theta ph:(0,2*pi):\\phi')\n",
    "\n",
    "R3 = Manifold(3, 'R^3')\n",
    "X3.<x, y, z> = R3.chart()\n",
    "F = S2.diff_map(R3, {(XS, X3): [sin(th)*cos(ph), sin(th)*sin(ph), cos(th)]}, name='F')\n",
    "\n",
    "# Ensure fixed coordinates are evaluated numerically\n",
    "RR = RealField(53)  # higher precision field\n",
    "fixed_coords = {th: RR(pi/4), ph: RR(pi/2)}\n",
    "# Display the differential map\n",
    "F.display()\n",
    "# Define the vector field to plot\n",
    "v = XS.frame()[1]\n",
    "# Isolated plotting to diagnose issues\n",
    "try:\n",
    "    # You must specify ambient_coords if your field's base and plot space differ\n",
    "    graph_v = v.plot(chart=X3, mapping=F, ambient_coords=(x,y),\n",
    "                     fixed_coords={th: pi/4, ph: pi/2}, label_axes=True,\n",
    "                     number_values=1)  # Assuming we use a uniform count across all dimensions\n",
    "    graph_S2 = XS.plot(chart=X3, mapping=F, number_values=9)\n",
    "    combined_graph = graph_v + graph_S2\n",
    "    combined_graph.show()\n",
    "except Exception as e:\n",
    "    print(f\"Error during plotting: {e}\")\n"
   ]
  },
  {
   "cell_type": "code",
   "execution_count": 12,
   "id": "392a51aa-28e9-49b6-aafb-6b41ed6b9877",
   "metadata": {},
   "outputs": [
    {
     "data": {
      "text/html": [
       "<html>\\(\\displaystyle \\newcommand{\\RR}{\\Bold{R}}\\newcommand{\\Bold}[1]{\\mathbf{#1}}\\begin{array}{llcl} \\Phi:& S^2 & \\longrightarrow & \\RR^3 \\\\ \\text{on}\\ U : & \\left(x, y\\right) & \\longmapsto & \\left(X, Y, Z\\right) = \\left(\\frac{2 \\, x}{x^{2} + y^{2} + 1}, \\frac{2 \\, y}{x^{2} + y^{2} + 1}, \\frac{x^{2} + y^{2} - 1}{x^{2} + y^{2} + 1}\\right) \\\\ \\text{on}\\ V : & \\left(u, v\\right) & \\longmapsto & \\left(X, Y, Z\\right) = \\left(\\frac{2 \\, u}{u^{2} + v^{2} + 1}, \\frac{2 \\, v}{u^{2} + v^{2} + 1}, -\\frac{u^{2} + v^{2} - 1}{u^{2} + v^{2} + 1}\\right) \\end{array}\\)</html>"
      ],
      "text/latex": [
       "$\\displaystyle \\newcommand{\\RR}{\\Bold{R}}\\newcommand{\\Bold}[1]{\\mathbf{#1}}\\begin{array}{llcl} \\Phi:& S^2 & \\longrightarrow & \\RR^3 \\\\ \\text{on}\\ U : & \\left(x, y\\right) & \\longmapsto & \\left(X, Y, Z\\right) = \\left(\\frac{2 \\, x}{x^{2} + y^{2} + 1}, \\frac{2 \\, y}{x^{2} + y^{2} + 1}, \\frac{x^{2} + y^{2} - 1}{x^{2} + y^{2} + 1}\\right) \\\\ \\text{on}\\ V : & \\left(u, v\\right) & \\longmapsto & \\left(X, Y, Z\\right) = \\left(\\frac{2 \\, u}{u^{2} + v^{2} + 1}, \\frac{2 \\, v}{u^{2} + v^{2} + 1}, -\\frac{u^{2} + v^{2} - 1}{u^{2} + v^{2} + 1}\\right) \\end{array}$"
      ],
      "text/plain": [
       "Phi: S^2 → R^3\n",
       "on U: (x, y) ↦ (X, Y, Z) = (2*x/(x^2 + y^2 + 1), 2*y/(x^2 + y^2 + 1), (x^2 + y^2 - 1)/(x^2 + y^2 + 1))\n",
       "on V: (u, v) ↦ (X, Y, Z) = (2*u/(u^2 + v^2 + 1), 2*v/(u^2 + v^2 + 1), -(u^2 + v^2 - 1)/(u^2 + v^2 + 1))"
      ]
     },
     "execution_count": 12,
     "metadata": {},
     "output_type": "execute_result"
    }
   ],
   "source": [
    "%display latex\n",
    "M = Manifold(2, 'S^2') \n",
    "U = M.open_subset('U') \n",
    "c_xy.<x,y> = U.chart() \n",
    "V = M.open_subset('V') \n",
    "c_uv.<u,v> = V.chart() \n",
    "M.declare_union(U,V)   \n",
    "xy_to_uv = c_xy.transition_map(c_uv, (x/(x^2+y^2), y/(x^2+y^2)),\n",
    "                intersection_name='W', restrictions1= x^2+y^2!=0,\n",
    "                restrictions2= u^2+v^2!=0)\n",
    "uv_to_xy = xy_to_uv.inverse()\n",
    "N = Manifold(3, 'R^3', r'\\RR^3')  \n",
    "c_cart.<X,Y,Z> = N.chart()  \n",
    "Phi = M.diff_map(N,\n",
    "{(c_xy, c_cart): [2*x/(1+x^2+y^2), 2*y/(1+x^2+y^2), (x^2+y^2-1)/(1+x^2+y^2)],\n",
    " (c_uv, c_cart): [2*u/(1+u^2+v^2), 2*v/(1+u^2+v^2), (1-u^2-v^2)/(1+u^2+v^2)]},\n",
    "name='Phi', latex_name=r'\\Phi')\n",
    "Phi\n",
    "Phi.parent()\n",
    "Phi.parent() is Hom(M, N)\n",
    "type(Phi)\n",
    "Phi.display()"
   ]
  },
  {
   "cell_type": "code",
   "execution_count": 3,
   "id": "a8f362c1-9bf9-41da-985f-132980063363",
   "metadata": {},
   "outputs": [
    {
     "ename": "NameError",
     "evalue": "name 'graph_v' is not defined",
     "output_type": "error",
     "traceback": [
      "\u001b[0;31m---------------------------------------------------------------------------\u001b[0m",
      "\u001b[0;31mNameError\u001b[0m                                 Traceback (most recent call last)",
      "Cell \u001b[0;32mIn[3], line 1\u001b[0m\n\u001b[0;32m----> 1\u001b[0m \u001b[43mgraph_v\u001b[49m \u001b[38;5;241m+\u001b[39m graph_S2\n",
      "\u001b[0;31mNameError\u001b[0m: name 'graph_v' is not defined"
     ]
    }
   ],
   "source": [
    "graph_v + graph_S2"
   ]
  },
  {
   "cell_type": "code",
   "execution_count": null,
   "id": "16e67460-7387-4179-9ec6-e774f528bdd9",
   "metadata": {},
   "outputs": [],
   "source": []
  }
 ],
 "metadata": {
  "kernelspec": {
   "display_name": "SageMath 10.3",
   "language": "sage",
   "name": "sagemath-10.3"
  },
  "language_info": {
   "codemirror_mode": {
    "name": "ipython",
    "version": 3
   },
   "file_extension": ".py",
   "mimetype": "text/x-python",
   "name": "python",
   "nbconvert_exporter": "python",
   "pygments_lexer": "ipython3",
   "version": "3.11.8"
  }
 },
 "nbformat": 4,
 "nbformat_minor": 5
}
